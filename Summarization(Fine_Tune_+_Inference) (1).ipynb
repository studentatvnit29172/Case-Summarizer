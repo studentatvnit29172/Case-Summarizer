{
  "cells": [
    {
      "cell_type": "markdown",
      "source": [
        "\n",
        "\n",
        "\n",
        "\n",
        "\n",
        "\n",
        "\n",
        "\n",
        "\n",
        "\n",
        "#Mount the google drive\n"
      ],
      "metadata": {
        "id": "pvl7yGWuZOhi"
      },
      "id": "pvl7yGWuZOhi"
    },
    {
      "cell_type": "code",
      "source": [
        "from google.colab import drive\n",
        "drive.mount('/content/drive')"
      ],
      "metadata": {
        "colab": {
          "base_uri": "https://localhost:8080/"
        },
        "id": "wO308vAu8ZyN",
        "outputId": "38f3a854-7885-49bc-d17b-d2d5eff75023"
      },
      "id": "wO308vAu8ZyN",
      "execution_count": null,
      "outputs": [
        {
          "output_type": "stream",
          "name": "stdout",
          "text": [
            "Mounted at /content/drive\n"
          ]
        }
      ]
    },
    {
      "cell_type": "markdown",
      "source": [
        "#Install pre-requisites"
      ],
      "metadata": {
        "id": "hR1MVxYbZVQb"
      },
      "id": "hR1MVxYbZVQb"
    },
    {
      "cell_type": "code",
      "execution_count": null,
      "id": "d707e0ba-b30a-4c9a-b0d0-a4d6b1d64845",
      "metadata": {
        "colab": {
          "base_uri": "https://localhost:8080/"
        },
        "id": "d707e0ba-b30a-4c9a-b0d0-a4d6b1d64845",
        "outputId": "62059717-f5b8-4157-f6fc-4dde07f7a982"
      },
      "outputs": [
        {
          "output_type": "stream",
          "name": "stdout",
          "text": [
            "Collecting datasets\n",
            "  Downloading datasets-3.0.0-py3-none-any.whl.metadata (19 kB)\n",
            "Requirement already satisfied: filelock in /usr/local/lib/python3.10/dist-packages (from datasets) (3.16.0)\n",
            "Requirement already satisfied: numpy>=1.17 in /usr/local/lib/python3.10/dist-packages (from datasets) (1.26.4)\n",
            "Collecting pyarrow>=15.0.0 (from datasets)\n",
            "  Downloading pyarrow-17.0.0-cp310-cp310-manylinux_2_28_x86_64.whl.metadata (3.3 kB)\n",
            "Collecting dill<0.3.9,>=0.3.0 (from datasets)\n",
            "  Downloading dill-0.3.8-py3-none-any.whl.metadata (10 kB)\n",
            "Requirement already satisfied: pandas in /usr/local/lib/python3.10/dist-packages (from datasets) (2.1.4)\n",
            "Requirement already satisfied: requests>=2.32.2 in /usr/local/lib/python3.10/dist-packages (from datasets) (2.32.3)\n",
            "Requirement already satisfied: tqdm>=4.66.3 in /usr/local/lib/python3.10/dist-packages (from datasets) (4.66.5)\n",
            "Collecting xxhash (from datasets)\n",
            "  Downloading xxhash-3.5.0-cp310-cp310-manylinux_2_17_x86_64.manylinux2014_x86_64.whl.metadata (12 kB)\n",
            "Collecting multiprocess (from datasets)\n",
            "  Downloading multiprocess-0.70.16-py310-none-any.whl.metadata (7.2 kB)\n",
            "Requirement already satisfied: fsspec<=2024.6.1,>=2023.1.0 in /usr/local/lib/python3.10/dist-packages (from fsspec[http]<=2024.6.1,>=2023.1.0->datasets) (2024.6.1)\n",
            "Requirement already satisfied: aiohttp in /usr/local/lib/python3.10/dist-packages (from datasets) (3.10.5)\n",
            "Requirement already satisfied: huggingface-hub>=0.22.0 in /usr/local/lib/python3.10/dist-packages (from datasets) (0.24.7)\n",
            "Requirement already satisfied: packaging in /usr/local/lib/python3.10/dist-packages (from datasets) (24.1)\n",
            "Requirement already satisfied: pyyaml>=5.1 in /usr/local/lib/python3.10/dist-packages (from datasets) (6.0.2)\n",
            "Requirement already satisfied: aiohappyeyeballs>=2.3.0 in /usr/local/lib/python3.10/dist-packages (from aiohttp->datasets) (2.4.0)\n",
            "Requirement already satisfied: aiosignal>=1.1.2 in /usr/local/lib/python3.10/dist-packages (from aiohttp->datasets) (1.3.1)\n",
            "Requirement already satisfied: attrs>=17.3.0 in /usr/local/lib/python3.10/dist-packages (from aiohttp->datasets) (24.2.0)\n",
            "Requirement already satisfied: frozenlist>=1.1.1 in /usr/local/lib/python3.10/dist-packages (from aiohttp->datasets) (1.4.1)\n",
            "Requirement already satisfied: multidict<7.0,>=4.5 in /usr/local/lib/python3.10/dist-packages (from aiohttp->datasets) (6.1.0)\n",
            "Requirement already satisfied: yarl<2.0,>=1.0 in /usr/local/lib/python3.10/dist-packages (from aiohttp->datasets) (1.11.1)\n",
            "Requirement already satisfied: async-timeout<5.0,>=4.0 in /usr/local/lib/python3.10/dist-packages (from aiohttp->datasets) (4.0.3)\n",
            "Requirement already satisfied: typing-extensions>=3.7.4.3 in /usr/local/lib/python3.10/dist-packages (from huggingface-hub>=0.22.0->datasets) (4.12.2)\n",
            "Requirement already satisfied: charset-normalizer<4,>=2 in /usr/local/lib/python3.10/dist-packages (from requests>=2.32.2->datasets) (3.3.2)\n",
            "Requirement already satisfied: idna<4,>=2.5 in /usr/local/lib/python3.10/dist-packages (from requests>=2.32.2->datasets) (3.8)\n",
            "Requirement already satisfied: urllib3<3,>=1.21.1 in /usr/local/lib/python3.10/dist-packages (from requests>=2.32.2->datasets) (2.0.7)\n",
            "Requirement already satisfied: certifi>=2017.4.17 in /usr/local/lib/python3.10/dist-packages (from requests>=2.32.2->datasets) (2024.8.30)\n",
            "Requirement already satisfied: python-dateutil>=2.8.2 in /usr/local/lib/python3.10/dist-packages (from pandas->datasets) (2.8.2)\n",
            "Requirement already satisfied: pytz>=2020.1 in /usr/local/lib/python3.10/dist-packages (from pandas->datasets) (2024.2)\n",
            "Requirement already satisfied: tzdata>=2022.1 in /usr/local/lib/python3.10/dist-packages (from pandas->datasets) (2024.1)\n",
            "Requirement already satisfied: six>=1.5 in /usr/local/lib/python3.10/dist-packages (from python-dateutil>=2.8.2->pandas->datasets) (1.16.0)\n",
            "Downloading datasets-3.0.0-py3-none-any.whl (474 kB)\n",
            "\u001b[2K   \u001b[90m━━━━━━━━━━━━━━━━━━━━━━━━━━━━━━━━━━━━━━━━\u001b[0m \u001b[32m474.3/474.3 kB\u001b[0m \u001b[31m9.6 MB/s\u001b[0m eta \u001b[36m0:00:00\u001b[0m\n",
            "\u001b[?25hDownloading dill-0.3.8-py3-none-any.whl (116 kB)\n",
            "\u001b[2K   \u001b[90m━━━━━━━━━━━━━━━━━━━━━━━━━━━━━━━━━━━━━━━━\u001b[0m \u001b[32m116.3/116.3 kB\u001b[0m \u001b[31m7.8 MB/s\u001b[0m eta \u001b[36m0:00:00\u001b[0m\n",
            "\u001b[?25hDownloading pyarrow-17.0.0-cp310-cp310-manylinux_2_28_x86_64.whl (39.9 MB)\n",
            "\u001b[2K   \u001b[90m━━━━━━━━━━━━━━━━━━━━━━━━━━━━━━━━━━━━━━━━\u001b[0m \u001b[32m39.9/39.9 MB\u001b[0m \u001b[31m20.3 MB/s\u001b[0m eta \u001b[36m0:00:00\u001b[0m\n",
            "\u001b[?25hDownloading multiprocess-0.70.16-py310-none-any.whl (134 kB)\n",
            "\u001b[2K   \u001b[90m━━━━━━━━━━━━━━━━━━━━━━━━━━━━━━━━━━━━━━━━\u001b[0m \u001b[32m134.8/134.8 kB\u001b[0m \u001b[31m7.8 MB/s\u001b[0m eta \u001b[36m0:00:00\u001b[0m\n",
            "\u001b[?25hDownloading xxhash-3.5.0-cp310-cp310-manylinux_2_17_x86_64.manylinux2014_x86_64.whl (194 kB)\n",
            "\u001b[2K   \u001b[90m━━━━━━━━━━━━━━━━━━━━━━━━━━━━━━━━━━━━━━━━\u001b[0m \u001b[32m194.1/194.1 kB\u001b[0m \u001b[31m11.7 MB/s\u001b[0m eta \u001b[36m0:00:00\u001b[0m\n",
            "\u001b[?25hInstalling collected packages: xxhash, pyarrow, dill, multiprocess, datasets\n",
            "  Attempting uninstall: pyarrow\n",
            "    Found existing installation: pyarrow 14.0.2\n",
            "    Uninstalling pyarrow-14.0.2:\n",
            "      Successfully uninstalled pyarrow-14.0.2\n",
            "\u001b[31mERROR: pip's dependency resolver does not currently take into account all the packages that are installed. This behaviour is the source of the following dependency conflicts.\n",
            "cudf-cu12 24.4.1 requires pyarrow<15.0.0a0,>=14.0.1, but you have pyarrow 17.0.0 which is incompatible.\n",
            "ibis-framework 8.0.0 requires pyarrow<16,>=2, but you have pyarrow 17.0.0 which is incompatible.\u001b[0m\u001b[31m\n",
            "\u001b[0mSuccessfully installed datasets-3.0.0 dill-0.3.8 multiprocess-0.70.16 pyarrow-17.0.0 xxhash-3.5.0\n",
            "Requirement already satisfied: accelerate in /usr/local/lib/python3.10/dist-packages (0.34.2)\n",
            "Requirement already satisfied: numpy<3.0.0,>=1.17 in /usr/local/lib/python3.10/dist-packages (from accelerate) (1.26.4)\n",
            "Requirement already satisfied: packaging>=20.0 in /usr/local/lib/python3.10/dist-packages (from accelerate) (24.1)\n",
            "Requirement already satisfied: psutil in /usr/local/lib/python3.10/dist-packages (from accelerate) (5.9.5)\n",
            "Requirement already satisfied: pyyaml in /usr/local/lib/python3.10/dist-packages (from accelerate) (6.0.2)\n",
            "Requirement already satisfied: torch>=1.10.0 in /usr/local/lib/python3.10/dist-packages (from accelerate) (2.4.0+cu121)\n",
            "Requirement already satisfied: huggingface-hub>=0.21.0 in /usr/local/lib/python3.10/dist-packages (from accelerate) (0.24.7)\n",
            "Requirement already satisfied: safetensors>=0.4.3 in /usr/local/lib/python3.10/dist-packages (from accelerate) (0.4.5)\n",
            "Requirement already satisfied: filelock in /usr/local/lib/python3.10/dist-packages (from huggingface-hub>=0.21.0->accelerate) (3.16.0)\n",
            "Requirement already satisfied: fsspec>=2023.5.0 in /usr/local/lib/python3.10/dist-packages (from huggingface-hub>=0.21.0->accelerate) (2024.6.1)\n",
            "Requirement already satisfied: requests in /usr/local/lib/python3.10/dist-packages (from huggingface-hub>=0.21.0->accelerate) (2.32.3)\n",
            "Requirement already satisfied: tqdm>=4.42.1 in /usr/local/lib/python3.10/dist-packages (from huggingface-hub>=0.21.0->accelerate) (4.66.5)\n",
            "Requirement already satisfied: typing-extensions>=3.7.4.3 in /usr/local/lib/python3.10/dist-packages (from huggingface-hub>=0.21.0->accelerate) (4.12.2)\n",
            "Requirement already satisfied: sympy in /usr/local/lib/python3.10/dist-packages (from torch>=1.10.0->accelerate) (1.13.2)\n",
            "Requirement already satisfied: networkx in /usr/local/lib/python3.10/dist-packages (from torch>=1.10.0->accelerate) (3.3)\n",
            "Requirement already satisfied: jinja2 in /usr/local/lib/python3.10/dist-packages (from torch>=1.10.0->accelerate) (3.1.4)\n",
            "Requirement already satisfied: MarkupSafe>=2.0 in /usr/local/lib/python3.10/dist-packages (from jinja2->torch>=1.10.0->accelerate) (2.1.5)\n",
            "Requirement already satisfied: charset-normalizer<4,>=2 in /usr/local/lib/python3.10/dist-packages (from requests->huggingface-hub>=0.21.0->accelerate) (3.3.2)\n",
            "Requirement already satisfied: idna<4,>=2.5 in /usr/local/lib/python3.10/dist-packages (from requests->huggingface-hub>=0.21.0->accelerate) (3.8)\n",
            "Requirement already satisfied: urllib3<3,>=1.21.1 in /usr/local/lib/python3.10/dist-packages (from requests->huggingface-hub>=0.21.0->accelerate) (2.0.7)\n",
            "Requirement already satisfied: certifi>=2017.4.17 in /usr/local/lib/python3.10/dist-packages (from requests->huggingface-hub>=0.21.0->accelerate) (2024.8.30)\n",
            "Requirement already satisfied: mpmath<1.4,>=1.1.0 in /usr/local/lib/python3.10/dist-packages (from sympy->torch>=1.10.0->accelerate) (1.3.0)\n",
            "Requirement already satisfied: transformers in /usr/local/lib/python3.10/dist-packages (4.44.2)\n",
            "Requirement already satisfied: filelock in /usr/local/lib/python3.10/dist-packages (from transformers) (3.16.0)\n",
            "Requirement already satisfied: huggingface-hub<1.0,>=0.23.2 in /usr/local/lib/python3.10/dist-packages (from transformers) (0.24.7)\n",
            "Requirement already satisfied: numpy>=1.17 in /usr/local/lib/python3.10/dist-packages (from transformers) (1.26.4)\n",
            "Requirement already satisfied: packaging>=20.0 in /usr/local/lib/python3.10/dist-packages (from transformers) (24.1)\n",
            "Requirement already satisfied: pyyaml>=5.1 in /usr/local/lib/python3.10/dist-packages (from transformers) (6.0.2)\n",
            "Requirement already satisfied: regex!=2019.12.17 in /usr/local/lib/python3.10/dist-packages (from transformers) (2024.5.15)\n",
            "Requirement already satisfied: requests in /usr/local/lib/python3.10/dist-packages (from transformers) (2.32.3)\n",
            "Requirement already satisfied: safetensors>=0.4.1 in /usr/local/lib/python3.10/dist-packages (from transformers) (0.4.5)\n",
            "Requirement already satisfied: tokenizers<0.20,>=0.19 in /usr/local/lib/python3.10/dist-packages (from transformers) (0.19.1)\n",
            "Requirement already satisfied: tqdm>=4.27 in /usr/local/lib/python3.10/dist-packages (from transformers) (4.66.5)\n",
            "Requirement already satisfied: fsspec>=2023.5.0 in /usr/local/lib/python3.10/dist-packages (from huggingface-hub<1.0,>=0.23.2->transformers) (2024.6.1)\n",
            "Requirement already satisfied: typing-extensions>=3.7.4.3 in /usr/local/lib/python3.10/dist-packages (from huggingface-hub<1.0,>=0.23.2->transformers) (4.12.2)\n",
            "Requirement already satisfied: charset-normalizer<4,>=2 in /usr/local/lib/python3.10/dist-packages (from requests->transformers) (3.3.2)\n",
            "Requirement already satisfied: idna<4,>=2.5 in /usr/local/lib/python3.10/dist-packages (from requests->transformers) (3.8)\n",
            "Requirement already satisfied: urllib3<3,>=1.21.1 in /usr/local/lib/python3.10/dist-packages (from requests->transformers) (2.0.7)\n",
            "Requirement already satisfied: certifi>=2017.4.17 in /usr/local/lib/python3.10/dist-packages (from requests->transformers) (2024.8.30)\n"
          ]
        }
      ],
      "source": [
        "'''These lines install the necessary libraries for your task.\n",
        "\n",
        "!pip install datasets installs the datasets library which is used for loading and processing datasets.\n",
        "!pip install accelerate -U installs or upgrades the accelerate library. This library helps with training and using PyTorch models.\n",
        "!pip install transformers installs the transformers library. This is a library for natural language processing (NLP) tasks. It provides pre-trained models like BART that we have used in the code.\n",
        "'''\n",
        "\n",
        "!pip install datasets\n",
        "!pip install accelerate -U\n",
        "!pip install transformers"
      ]
    },
    {
      "cell_type": "markdown",
      "source": [
        "#Load the dataset and split\n"
      ],
      "metadata": {
        "id": "ovR5-O7xZoS_"
      },
      "id": "ovR5-O7xZoS_"
    },
    {
      "cell_type": "code",
      "execution_count": null,
      "id": "29ac733f-faf0-4bf0-891d-53120dfbc2fa",
      "metadata": {
        "id": "29ac733f-faf0-4bf0-891d-53120dfbc2fa"
      },
      "outputs": [],
      "source": [
        "'''\n",
        "This line uses the glob library to find all the .txt files in the specified directory.\n",
        "\n",
        "glob.glob() is a function that returns a list of files matching a given pattern.\n",
        "path + \"/*.txt\" creates a pattern that matches any file ending with .txt in the directory specified by path.\n",
        "This line essentially creates a list of all text files found in the directory.\n",
        "'''\n",
        "import glob\n",
        "\n",
        "def load_data(data):\n",
        "  #Path to the summary\n",
        "  path=\"/content/drive/MyDrive/IN-Abs/train-data/summary\"\n",
        "\n",
        "  #Get all the txt files with summaries\n",
        "  all_files = glob.glob(path + \"/*.txt\")\n",
        "\n",
        "  summary = []\n",
        "\n",
        "  #Get the summaries\n",
        "  for filename in all_files:\n",
        "      with open(filename, 'r') as f:\n",
        "          a = f.read()\n",
        "          summary.append(a)\n",
        "\n",
        "  #Path to the case files\n",
        "  path = \"/content/drive/MyDrive/IN-Abs/train-data/judgement\"\n",
        "\n",
        "  #Get all the txt files with case details\n",
        "  all_files = glob.glob(path + \"/*.txt\")\n",
        "\n",
        "  source = []\n",
        "\n",
        "  for filename in all_files:\n",
        "      with open(filename, 'r') as f:\n",
        "          a = f.read()\n",
        "          source.append(a)\n",
        "          #Prepare the dataset\n",
        "\n",
        "  for src,summ in zip(source,summary):\n",
        "      data.append({\"source\" : src , \"summary\" : summ})\n",
        "\n",
        "  #Convert the data from \"dict\" to \"DatasetDict\"\n",
        "  # Reference : https://discuss.huggingface.co/t/convert-a-list-of-dictionaries-to-hugging-face-dataset-object/14670\n",
        "  #from datasets import Dataset\n",
        "  #data=Dataset.from_list(data)\n",
        "\n",
        "  return data"
      ]
    },
    {
      "cell_type": "code",
      "source": [
        "#Load the data\n",
        "data=list()\n",
        "data=load_data(data)"
      ],
      "metadata": {
        "id": "5g9rIndsrB_0"
      },
      "id": "5g9rIndsrB_0",
      "execution_count": null,
      "outputs": []
    },
    {
      "cell_type": "code",
      "execution_count": null,
      "id": "9f98c3ff-5134-48a7-a64a-c4c5b05261f2",
      "metadata": {
        "colab": {
          "base_uri": "https://localhost:8080/",
          "height": 192
        },
        "id": "9f98c3ff-5134-48a7-a64a-c4c5b05261f2",
        "outputId": "883e7a26-6476-4863-ac90-e41f58855f45"
      },
      "outputs": [
        {
          "output_type": "execute_result",
          "data": {
            "text/plain": [
              "'Appeal No. 53 of 1969.\\nAppeal by special leave from the judgment and decree dated November 1, 1968 of the Rajasthan High Court in Civil Regular Second Appeal No. 487 of 1962.\\nC. B. Agarwala, Rameshwar Nath and Mahinder Narain, for the appellant.\\nB. R. L. Iyengar, section K. Mehta and K. L. Mehta, for the respondents.\\nThe Judgment of the Court was, delivered by Bachawat, J.\\nThis appeal arises out of a suit for ejectment by a landlord against a tenant.\\nThe defendant is the tenant of six shops belonging to Thakurji Shri Shri Dwarkadheeshji installed in the temple at Chaura Raasta, Jaipur.\\nDevendra Prasad is the adhikari or manager of the temple.\\nHe gave a notice to the defendant to quit the shop on August 1, 1957.\\nOn February 28, 1958, the deity and Devendra Prasad filed a suit against the defendant claiming recovery of possession of the six shops and Rs. 1,006/ on account of arrears of rent.\\nThe suit was governed by the Rajasthan Premises (Control of Rent and Eviction) Act, 1950 (Act No. XVII of 1950).\\nThe plaintiffs asked for ejectment of the defendant on the ground that he had sublet the six shops.\\nThe other grounds of ejectment were not established, and it is not necessary to mention them.\\nThe courts below concurrently found that Devendra Prasad as \\' the adhikari of the temple was entitled to give the notice to quit and to maintain the suit.\\nThe trial court hold that (1) all the six shops were sub let by the defendant; (2) the sub leting was with the permission of 991 the landlord and (3) the notice to quit was waived by acceptance of rent subsequently accrued due.\\nAccordingly, the trial court dismissed the suit so far as it claimed ejectment and passed a decree for Rs. 1,006 on account arrears of rent.\\nThe plaintiff filed an appeal against the decree.\\nThe District Judge, Jaipur City, dismissed the appeal.\\nThe plaintiffs filed a second appeal against the decree.\\nThe High Court held that (1) there was on integrated tenancy of all the six shops; (2) four shops were sub let with the permission of the landlord; (3) two shops were sub let without the permission of the landlord towards the end of 1947; (4) the tenant having sub let a part of the premises without the permission of the landlord the ground of eviction under clause (e) of section 13(1) was made out and the landlord was entitled to a decree for possession of all the six shops and (5) there was no waiver of the notice to quit.\\nAccordingly, the High Court allowed the appeal and passed a decree for eviction of the defendant from the six shops.\\nThe present appeal has been field by the defendant after obtaining special leave.\\nCounsel for the appellant conceded that there was no waiver of the notice to quit by acceptance of rent or otherwise.\\nThe points arising \\'for determination in this appeal are : (1) was there one integrated tenancy of all the six shops ? (2) were the two sub let without the permission of the landlord towards the end of 1947 ? and (3) is the sub letting a ground of ejectment under clause (e) of section 13 (1) of the Rent Act ? As to the first question, we find that four shops were let to the defendant in 1944 and the other two shops on the northern side of the staircase of the temple were let to him in 1945.\\nThe rent of the four shops was Rs. 1501 per month.\\nThe rent of the other two shops was Rs. 65/ per month.\\nIn paragraph 5 of the plaint it was pleaded that in 1953 the defendant agreed to pay a consolidated rent of Rs. 251/8/ per month for all the six shops and to vacate them by July 31, 1957.\\nIn paragraph 5 of the written statement the defendant denied this contract and alleged that in 1953 there was only an enhancement of rent.\\nThe first two courts found that in 1953 there was no new contract of tenancy, that there was only an increase of rent and that the other terms and conditions of the tenancy remained unaltered.\\nThis finding was not vitiated by any error of law.\\nA mere increase or reduction of rent does not necessarily import the surrender of the existing lease and the grant of a new tenancy.\\nAs stated in Hill and Redman \\'s Law of Landlord and Tenant, 14th ed., article 385, p. 493 : \"But a surrender does not follow from a mere agreement made during the tenancy for the reduction 992 or increase of rent, unless there is some special reason to inter a new tenancy, where for instance, the parties make the change in the rent in the belief that tile old tenancy is at an end.\\n\" In the present case the first two courts on a review of the entire evidence came to the conclusion that the increase of rent did not import a new demise.\\nThis finding of fact was binding on the High Court in second appeal.\\nThe High Court was in error in holding that there was one, integrated tenancy of the six shops.\\nAs to the second question the defendant denied that he sub let the two shops.\\nThe courts below concurrently found that this denial was false and that he sub let the two shops to his brotherin law Ram Gopal.\\nThere was no pleading nor any issue that the sub letting of the two shops was made with the permission of the landlord.\\nIt was not the case of the defendant at any stage of the trial that he had obtained the permission of the landlord for sub letting the two shops.\\nIn the absence of any pleading and any issue on his joint the first two courts were in error in holding that the two shops were sub let with the permission of the landlord.\\nThe permission of the landlord for the sub letting is not established from the mere fact that the landlord realised rent after the sub letting in the absence of proof hat the landlord had then clear knowledge of the sub lease.\\nThe date of the sub letting of the two shops is not mentioned in the plaint.\\nIn the absence of any pleading and any issue on his question the High Court \\'was in error in recording the finding that the two shops were sub let towards the end of 1947 after the Jaipur Rent Control Order 1947 came into force.\\nWe can only say that the sub letting was sometime after 1945.\\nAs to the third question : section 13(1) of the Rajasthan Premises (Control of Rent & Eviction) Act, 1950 provides : \"Notwithstanding anything contained in any law or contract, no Court shall pass any decree, or make any order, in favour of a landlord, whether in execution of a decree or otherwise, evicting the tenant so long as he is ready and willing to pay rent therefor to the full extent allowable by this Act, unless it is satisfied \" The sub section then sets out several grounds of ejectment under twelve main heads.\\nClause (e) mentions the following ground : \" that the tenant has assigned, sub let or otherwise parted with the possession of, the whole or any part of the promises without the permission of the landlord.\\n\" 993 The appellant \\'s contention is that sub letting before the Act came into force is not within the purview of clause (e).\\nThe High Court held that the two shops were sub let after October 15, 1947 when the Jaipur Rent Control Order, 1947 came into force, that the sub letting was a ground of ejectment under paragraph 8 ( 1 ) (b) (ii) of that Order and that the tenant \\'s liability for eviction on this ground continued after the promulgation of the Rajasthan Premises (Control of Rent and Eviction) Act, 1950.\\nWith regard to this line of reasoning it is sufficient to say that the plaintiffs have not established that the sub letting was after October 15, 1947.\\nThe case must be decided on the footing that on the date of the sub letting, no Rent Control legislation was in force.\\nThe question whether a subletting before the coming into force of the Act is within the purview of clause (e) of section 13(1) depends upon the construction of that clause.\\nThe relevant words are \"has sub let\".\\nThe present perfect tense contemplates a completed event connected in some way with the present time.\\nThe words take within their sweep any sub letting which was made in the past and has continued up to the present time.\\nIt does not matter that the sub letting was either before or after the Act came into force.\\nAll such sub lettings are within the purview of clause (e).\\nSections 26 and 27(1) of the Act throw considerable light on the construction of section 13(1).\\nThey are as follows : \"26.\\nNo decree for the eviction of a tenant from any premises in areas to which this Act extends for the time being, passed before the date of commencement of this Act shall in so far as it relates to the eviction of such tenant be executed against him, as long as this Act, remains in force therein, except on any of the grounds mentioned in section 13 and under the circumstances specified in this Act.\\n27(1) In all suits for eviction of tenants from any premises in areas to which this Act has been extended undersection 2, pending on the date specified in the notification under that section, no decree for eviction shall be passed except on one or more of the grounds mentioned in section 13 and under the circum stances specified in this Act.\\n\" Section 26 bars the execution of a decree for eviction passed before the commencement of the Act except on any of the grounds mentioned in section 13 and under the circumstances specified in the Act.\\nLikewise, section 27(1) bars the passing of a decree for eviction in a pending suit except on one or more of the grounds under 994 section 13 and under the circumstances specified in the Act.\\nSections \\' 26 and 27(1) clearly contemplate that the grounds of eviction mentioned in section 13 may have arisen before the Act came into force.\\nThe argument that section 1 3 ( 1 ) (e) takes away vested rights and should not be given a retrospective effect is based on fallacious assumptions.\\nApart from the Rent Act the landlord is entitled to eject the tenant on the expiry of the period mentioned in the notice to quit.\\nSection 13(1) protects the tenant from eviction except in certain specified cases.\\nIf one of the grounds of ejectment is made out the tenant does not qualify for,protection from eviction.\\nWe find no reason for presuming that section 13 (1) (e) is not intended to apply to sub lettings before the Act came into force.\\nIf the \"tenant has sub let\" the premises without the permission of the landlord either before or after the coming into force of the Act, he is not protected from eviction under section 13 ( 1 ) (e), and it matters not that he had the right to sub let the premises under section 108(j) of the Transfer of Property Act.\\nThe plaintiffs have thus established the ground of eviction under section 1 3 (1 ) (e) with regard to the two shops on the northern side of the staircase of the temple.\\nWith regard to the four other shops the courts below concurrently found that they were sublet with the permission of the land lord.\\nIn our opinion, the plaintiffs are entitled to a decree for ejectment of the defendant from the two shops and the claim for eviction from the other four shops should be dismissed.\\nIn the result, the appeal is allowed in part.\\nThe decree passed by the High Court for eviction of the defendant from the four shops is set aside and the suit in so far as it claims eviction from the four shops is dismissed.\\nThe decree passed by the High Court for eviction of the defendant from the other two shops on the northern side of the staircase of the temple mentioned in paragraph 4 of the plaint is affirmed.\\nParties will pay and bear their own costs throughout, in this Court and in all the courts below.\\nThe defendant will have one month \\'s time to vacate the two shops.\\nY.P. Appeal allowed in part.\\n'"
            ],
            "application/vnd.google.colaboratory.intrinsic+json": {
              "type": "string"
            }
          },
          "metadata": {},
          "execution_count": 5
        }
      ],
      "source": [
        "data[0][\"source\"]"
      ]
    },
    {
      "cell_type": "code",
      "execution_count": null,
      "id": "576eab1b-d9b0-4664-a73d-b9cedac62805",
      "metadata": {
        "colab": {
          "base_uri": "https://localhost:8080/",
          "height": 192
        },
        "id": "576eab1b-d9b0-4664-a73d-b9cedac62805",
        "outputId": "a7b5903f-e7ab-4276-f887-8a4e49e25868"
      },
      "outputs": [
        {
          "output_type": "execute_result",
          "data": {
            "text/plain": [
              "\"Section 10(1) of the , does not confer on the appropriate Government the power to cancel or supersede a reference made thereunder in respect of an industrial dispute pending adjudication by the tribunal constituted for that purpose.\\nNor can section 21 of the , vest such a power by necessary implication.\\nIt is well settled that the rule of construction embodied in section 21 of the can apply to the provisions of a statute only where the subject matter, context and effect of such provisions are in no way inconsistent with such application.\\nSo judged it is clear that that section cannot apply to section 10(1) of the .\\nMinerva Mills Ltd. vs Their Workmen, ; , held inapplicable.\\n1192 Strawboard Manufacturing Co. Ltd. vs Gutta Mill Workers ' Union, ; , explained.\\nThe Textile Workers ' Union, Amritsar vs The State of Punjab and others, A. I. R. 1957 pun.\\n255 and Hayendranath Bose vs Second Industrial Tribunal, , overruled.\\nSouth Indian Estate Labour Relations Organisation vs The State of Madras, , distinguished.\\nConsequently, where the appropriate Government by two notifications, issued one after the other, referred two industrial disputes between two batches of workmen and their employer for adjudication to the industrial tribunal constituted for that purpose and, thereafter, by a third notification superseded the two earlier notifications and the High Court, on the applications of both the workmen and the employer under articles 226 and 227 of the Constitution, issued a writ of certiorari quashing that notification and by a writ of mandamus required the tribunal to proceed expeditiously with the two references and the State Government appealed: Held, that the impugned notification was invalid and ultra vires 'and the finding of the High Court must be affirmed.\\nHeld, further, that since a reference under section 10(1) of the was in the nature of an administrative act, the more appropriate writ to issue would be one of mandamus and not one in the nature of certiorari.\\nThe State of Madras vs C. P. Sarathy, , referred to.\\n\""
            ],
            "application/vnd.google.colaboratory.intrinsic+json": {
              "type": "string"
            }
          },
          "metadata": {},
          "execution_count": 6
        }
      ],
      "source": [
        "data[0][\"summary\"]"
      ]
    },
    {
      "cell_type": "code",
      "source": [
        "#Number of rows\n",
        "len(data)"
      ],
      "metadata": {
        "colab": {
          "base_uri": "https://localhost:8080/"
        },
        "id": "ujnMQs2kJy3s",
        "outputId": "472ee9f3-a331-4e24-a69d-b34043cbefb4"
      },
      "id": "ujnMQs2kJy3s",
      "execution_count": null,
      "outputs": [
        {
          "output_type": "execute_result",
          "data": {
            "text/plain": [
              "2608"
            ]
          },
          "metadata": {},
          "execution_count": 7
        }
      ]
    },
    {
      "cell_type": "code",
      "source": [
        "#Split the data into train and validation dataset\n",
        "from sklearn.model_selection import train_test_split\n",
        "\n",
        "# Split into train and validation sets\n",
        "train_data, val_data = train_test_split(data, test_size=0.1, random_state=42)\n"
      ],
      "metadata": {
        "id": "shXEefmstCF7"
      },
      "id": "shXEefmstCF7",
      "execution_count": null,
      "outputs": []
    },
    {
      "cell_type": "code",
      "execution_count": null,
      "id": "b4736538-d565-4de2-b58d-9f50985b3b5e",
      "metadata": {
        "id": "b4736538-d565-4de2-b58d-9f50985b3b5e"
      },
      "outputs": [],
      "source": [
        "# Reference : https://discuss.huggingface.co/t/convert-a-list-of-dictionaries-to-hugging-face-dataset-object/14670\n",
        "from datasets import Dataset\n",
        "train_data=Dataset.from_list(train_data)\n",
        "eval_data=Dataset.from_list(val_data)"
      ]
    },
    {
      "cell_type": "code",
      "execution_count": null,
      "id": "1381a32c-4ade-4e56-9338-ef90c59f0fc8",
      "metadata": {
        "colab": {
          "base_uri": "https://localhost:8080/"
        },
        "id": "1381a32c-4ade-4e56-9338-ef90c59f0fc8",
        "outputId": "c723e04c-a065-4c42-9a86-3e0ed2e25cc9"
      },
      "outputs": [
        {
          "output_type": "execute_result",
          "data": {
            "text/plain": [
              "Dataset({\n",
              "    features: ['source', 'summary'],\n",
              "    num_rows: 2347\n",
              "})"
            ]
          },
          "metadata": {},
          "execution_count": 11
        }
      ],
      "source": [
        "train_data"
      ]
    },
    {
      "cell_type": "code",
      "source": [
        "eval_data"
      ],
      "metadata": {
        "colab": {
          "base_uri": "https://localhost:8080/"
        },
        "id": "xNrtZiRQJgJz",
        "outputId": "d32b9040-7d21-4d3e-f69d-cd19871767db"
      },
      "id": "xNrtZiRQJgJz",
      "execution_count": null,
      "outputs": [
        {
          "output_type": "execute_result",
          "data": {
            "text/plain": [
              "Dataset({\n",
              "    features: ['source', 'summary'],\n",
              "    num_rows: 261\n",
              "})"
            ]
          },
          "metadata": {},
          "execution_count": 12
        }
      ]
    },
    {
      "cell_type": "code",
      "execution_count": null,
      "id": "189d5e6b-ffba-4586-b082-235d5bbe02ae",
      "metadata": {
        "colab": {
          "base_uri": "https://localhost:8080/"
        },
        "id": "189d5e6b-ffba-4586-b082-235d5bbe02ae",
        "outputId": "85a85577-8b7d-4eb8-da81-edc91dfde955"
      },
      "outputs": [
        {
          "output_type": "stream",
          "name": "stderr",
          "text": [
            "[nltk_data] Downloading package punkt to /root/nltk_data...\n",
            "[nltk_data]   Unzipping tokenizers/punkt.zip.\n"
          ]
        },
        {
          "output_type": "execute_result",
          "data": {
            "text/plain": [
              "True"
            ]
          },
          "metadata": {},
          "execution_count": 13
        }
      ],
      "source": [
        "import transformers\n",
        "from transformers import AutoTokenizer, AutoModelForSeq2SeqLM, Seq2SeqTrainingArguments, Seq2SeqTrainer\n",
        "from datasets import load_dataset, load_from_disk\n",
        "import numpy as np\n",
        "import nltk\n",
        "nltk.download('punkt')"
      ]
    },
    {
      "source": [
        "\n",
        "from transformers import AutoModelForSeq2SeqLM, AutoTokenizer\n",
        "model_name = \"drive/MyDrive/Abhishek/bart-large-cnn\"\n",
        "tokenizer = AutoTokenizer.from_pretrained(\"facebook/bart-large-cnn\")\n",
        "model = AutoModelForSeq2SeqLM.from_pretrained(model_name)"
      ],
      "cell_type": "code",
      "metadata": {
        "colab": {
          "base_uri": "https://localhost:8080/"
        },
        "id": "I28O9eARFQ4L",
        "outputId": "f3e39456-5680-4c43-a645-4d86f3c836d9"
      },
      "id": "I28O9eARFQ4L",
      "execution_count": null,
      "outputs": [
        {
          "output_type": "stream",
          "name": "stderr",
          "text": [
            "/usr/local/lib/python3.10/dist-packages/transformers/tokenization_utils_base.py:1601: FutureWarning: `clean_up_tokenization_spaces` was not set. It will be set to `True` by default. This behavior will be depracted in transformers v4.45, and will be then set to `False` by default. For more details check this issue: https://github.com/huggingface/transformers/issues/31884\n",
            "  warnings.warn(\n"
          ]
        }
      ]
    },
    {
      "cell_type": "code",
      "execution_count": null,
      "id": "b3b5ccb7-8f74-4e28-8fe2-884f3831e6fd",
      "metadata": {
        "id": "b3b5ccb7-8f74-4e28-8fe2-884f3831e6fd"
      },
      "outputs": [],
      "source": [
        "def preprocess_data(data):\n",
        "  #get all the dialogues\n",
        "  inputs = [src for src in data['source']]\n",
        "  #tokenize the dialogues\n",
        "  model_inputs = tokenizer(inputs,  max_length=512, padding='max_length', truncation=True) #changed max_length to 512\n",
        "  #tokenize the summaries\n",
        "  with tokenizer.as_target_tokenizer():\n",
        "    targets = tokenizer(data['summary'], max_length=128, padding='max_length', truncation=True) #changed max_length to 128\n",
        "\n",
        "  #set labels\n",
        "  model_inputs['labels'] = targets['input_ids']\n",
        "  #return the tokenized data\n",
        "  #input_ids, attention_mask and labels\n",
        "  return model_inputs"
      ]
    },
    {
      "cell_type": "code",
      "source": [],
      "metadata": {
        "id": "ecNb01QKuWfT"
      },
      "id": "ecNb01QKuWfT",
      "execution_count": null,
      "outputs": []
    },
    {
      "cell_type": "code",
      "execution_count": null,
      "id": "36a55ab9-fb51-4d4f-83e5-103b0b84c725",
      "metadata": {
        "colab": {
          "base_uri": "https://localhost:8080/",
          "height": 104,
          "referenced_widgets": [
            "f521c97e2ab84121b20bd0de83e99dbd",
            "830a2ab34dcf46f186cb9f1dae64b79c",
            "f3fc8db116e84b00a26bf9713a4f28ac",
            "1371a3df05ee44caaf6fb836f1125998",
            "f773be10b3d64438a46d93dcbe1b5ea2",
            "d7e7473304474db59a3593a99b63b7bc",
            "9a492e91e17c4024a768ec85b8051585",
            "c6f9207a0949447b82e4db943195fd4e",
            "e3c6d06509284418a4ac9917ef1c6d4f",
            "05d6bda454c8452d822ace52be80c095",
            "f3cef6c925cf42a1b8feac639ef7c83c"
          ]
        },
        "id": "36a55ab9-fb51-4d4f-83e5-103b0b84c725",
        "outputId": "2f839432-7eca-483e-bfb6-13a4791b8857"
      },
      "outputs": [
        {
          "output_type": "display_data",
          "data": {
            "text/plain": [
              "Map:   0%|          | 0/2347 [00:00<?, ? examples/s]"
            ],
            "application/vnd.jupyter.widget-view+json": {
              "version_major": 2,
              "version_minor": 0,
              "model_id": "f521c97e2ab84121b20bd0de83e99dbd"
            }
          },
          "metadata": {}
        },
        {
          "output_type": "stream",
          "name": "stderr",
          "text": [
            "/usr/local/lib/python3.10/dist-packages/transformers/tokenization_utils_base.py:4126: UserWarning: `as_target_tokenizer` is deprecated and will be removed in v5 of Transformers. You can tokenize your labels by using the argument `text_target` of the regular `__call__` method (either in the same call as your input texts if you use the same keyword arguments, or in a separate call.\n",
            "  warnings.warn(\n"
          ]
        }
      ],
      "source": [
        "tokenize_data_train= train_data.map(preprocess_data, batched = True)"
      ]
    },
    {
      "cell_type": "code",
      "source": [
        "tokenize_data_eval= eval_data.map(preprocess_data, batched = True)"
      ],
      "metadata": {
        "colab": {
          "base_uri": "https://localhost:8080/",
          "height": 49,
          "referenced_widgets": [
            "7814e462b76f44aabe5e1deaffba7068",
            "84424efda44f48c0b0bdb1f7ba890a4b",
            "283a185517444246977478c8960d2d25",
            "9a0f09f3284b4caaaddb20247e6dd22f",
            "2b7f2b8432b64559bd4361c8b66fa735",
            "711faef5cda244638d5752378f030c91",
            "b57e232708e34cd3984166e50b3a47ef",
            "67e41f3e64e240419afc1388ba7f5987",
            "11afa7adb2c941dab44f360524ef621c",
            "8e128dcb0491468f870f5de265be02d4",
            "1f2d8e039f84429ca818baf5984df030"
          ]
        },
        "id": "njz8K9XLKFh4",
        "outputId": "c7f6e3ea-a149-4f57-d6a1-88bed1950a79"
      },
      "id": "njz8K9XLKFh4",
      "execution_count": null,
      "outputs": [
        {
          "output_type": "display_data",
          "data": {
            "text/plain": [
              "Map:   0%|          | 0/261 [00:00<?, ? examples/s]"
            ],
            "application/vnd.jupyter.widget-view+json": {
              "version_major": 2,
              "version_minor": 0,
              "model_id": "7814e462b76f44aabe5e1deaffba7068"
            }
          },
          "metadata": {}
        }
      ]
    },
    {
      "source": [
        "!pip install datasets transformers\n",
        "from transformers import AutoModelForSeq2SeqLM, AutoTokenizer, DataCollatorForSeq2Seq\n",
        "import datasets\n",
        "import numpy as np\n",
        "\n",
        "# Define the data collator\n",
        "data_collator = DataCollatorForSeq2Seq(tokenizer=tokenizer, model=model)\n",
        "\n",
        "# Define the compute_metric function\n",
        "def compute_metrics(pred):\n",
        "    labels_ids = pred.label_ids\n",
        "    return {'loss': 0.5} # Return a dictionary with a 'loss' key\n"
      ],
      "cell_type": "code",
      "metadata": {
        "colab": {
          "base_uri": "https://localhost:8080/"
        },
        "id": "nATZURQ6bUfv",
        "outputId": "19830845-04a6-4ba8-94a0-5f7dacc84308"
      },
      "id": "nATZURQ6bUfv",
      "execution_count": null,
      "outputs": [
        {
          "output_type": "stream",
          "name": "stdout",
          "text": [
            "Requirement already satisfied: datasets in /usr/local/lib/python3.10/dist-packages (3.0.0)\n",
            "Requirement already satisfied: transformers in /usr/local/lib/python3.10/dist-packages (4.44.2)\n",
            "Requirement already satisfied: filelock in /usr/local/lib/python3.10/dist-packages (from datasets) (3.16.0)\n",
            "Requirement already satisfied: numpy>=1.17 in /usr/local/lib/python3.10/dist-packages (from datasets) (1.26.4)\n",
            "Requirement already satisfied: pyarrow>=15.0.0 in /usr/local/lib/python3.10/dist-packages (from datasets) (17.0.0)\n",
            "Requirement already satisfied: dill<0.3.9,>=0.3.0 in /usr/local/lib/python3.10/dist-packages (from datasets) (0.3.8)\n",
            "Requirement already satisfied: pandas in /usr/local/lib/python3.10/dist-packages (from datasets) (2.1.4)\n",
            "Requirement already satisfied: requests>=2.32.2 in /usr/local/lib/python3.10/dist-packages (from datasets) (2.32.3)\n",
            "Requirement already satisfied: tqdm>=4.66.3 in /usr/local/lib/python3.10/dist-packages (from datasets) (4.66.5)\n",
            "Requirement already satisfied: xxhash in /usr/local/lib/python3.10/dist-packages (from datasets) (3.5.0)\n",
            "Requirement already satisfied: multiprocess in /usr/local/lib/python3.10/dist-packages (from datasets) (0.70.16)\n",
            "Requirement already satisfied: fsspec<=2024.6.1,>=2023.1.0 in /usr/local/lib/python3.10/dist-packages (from fsspec[http]<=2024.6.1,>=2023.1.0->datasets) (2024.6.1)\n",
            "Requirement already satisfied: aiohttp in /usr/local/lib/python3.10/dist-packages (from datasets) (3.10.5)\n",
            "Requirement already satisfied: huggingface-hub>=0.22.0 in /usr/local/lib/python3.10/dist-packages (from datasets) (0.24.6)\n",
            "Requirement already satisfied: packaging in /usr/local/lib/python3.10/dist-packages (from datasets) (24.1)\n",
            "Requirement already satisfied: pyyaml>=5.1 in /usr/local/lib/python3.10/dist-packages (from datasets) (6.0.2)\n",
            "Requirement already satisfied: regex!=2019.12.17 in /usr/local/lib/python3.10/dist-packages (from transformers) (2024.5.15)\n",
            "Requirement already satisfied: safetensors>=0.4.1 in /usr/local/lib/python3.10/dist-packages (from transformers) (0.4.5)\n",
            "Requirement already satisfied: tokenizers<0.20,>=0.19 in /usr/local/lib/python3.10/dist-packages (from transformers) (0.19.1)\n",
            "Requirement already satisfied: aiohappyeyeballs>=2.3.0 in /usr/local/lib/python3.10/dist-packages (from aiohttp->datasets) (2.4.0)\n",
            "Requirement already satisfied: aiosignal>=1.1.2 in /usr/local/lib/python3.10/dist-packages (from aiohttp->datasets) (1.3.1)\n",
            "Requirement already satisfied: attrs>=17.3.0 in /usr/local/lib/python3.10/dist-packages (from aiohttp->datasets) (24.2.0)\n",
            "Requirement already satisfied: frozenlist>=1.1.1 in /usr/local/lib/python3.10/dist-packages (from aiohttp->datasets) (1.4.1)\n",
            "Requirement already satisfied: multidict<7.0,>=4.5 in /usr/local/lib/python3.10/dist-packages (from aiohttp->datasets) (6.1.0)\n",
            "Requirement already satisfied: yarl<2.0,>=1.0 in /usr/local/lib/python3.10/dist-packages (from aiohttp->datasets) (1.11.1)\n",
            "Requirement already satisfied: async-timeout<5.0,>=4.0 in /usr/local/lib/python3.10/dist-packages (from aiohttp->datasets) (4.0.3)\n",
            "Requirement already satisfied: typing-extensions>=3.7.4.3 in /usr/local/lib/python3.10/dist-packages (from huggingface-hub>=0.22.0->datasets) (4.12.2)\n",
            "Requirement already satisfied: charset-normalizer<4,>=2 in /usr/local/lib/python3.10/dist-packages (from requests>=2.32.2->datasets) (3.3.2)\n",
            "Requirement already satisfied: idna<4,>=2.5 in /usr/local/lib/python3.10/dist-packages (from requests>=2.32.2->datasets) (3.8)\n",
            "Requirement already satisfied: urllib3<3,>=1.21.1 in /usr/local/lib/python3.10/dist-packages (from requests>=2.32.2->datasets) (2.0.7)\n",
            "Requirement already satisfied: certifi>=2017.4.17 in /usr/local/lib/python3.10/dist-packages (from requests>=2.32.2->datasets) (2024.8.30)\n",
            "Requirement already satisfied: python-dateutil>=2.8.2 in /usr/local/lib/python3.10/dist-packages (from pandas->datasets) (2.8.2)\n",
            "Requirement already satisfied: pytz>=2020.1 in /usr/local/lib/python3.10/dist-packages (from pandas->datasets) (2024.2)\n",
            "Requirement already satisfied: tzdata>=2022.1 in /usr/local/lib/python3.10/dist-packages (from pandas->datasets) (2024.1)\n",
            "Requirement already satisfied: six>=1.5 in /usr/local/lib/python3.10/dist-packages (from python-dateutil>=2.8.2->pandas->datasets) (1.16.0)\n"
          ]
        }
      ]
    },
    {
      "cell_type": "code",
      "execution_count": null,
      "id": "1f1a1c21-3ba5-4358-b9a9-6a1514d02425",
      "metadata": {
        "colab": {
          "base_uri": "https://localhost:8080/"
        },
        "id": "1f1a1c21-3ba5-4358-b9a9-6a1514d02425",
        "outputId": "51e2b58e-a892-416b-b2f0-da0577382e90"
      },
      "outputs": [
        {
          "output_type": "stream",
          "name": "stderr",
          "text": [
            "/usr/local/lib/python3.10/dist-packages/transformers/training_args.py:1525: FutureWarning: `evaluation_strategy` is deprecated and will be removed in version 4.46 of 🤗 Transformers. Use `eval_strategy` instead\n",
            "  warnings.warn(\n",
            "/usr/local/lib/python3.10/dist-packages/accelerate/accelerator.py:494: FutureWarning: `torch.cuda.amp.GradScaler(args...)` is deprecated. Please use `torch.amp.GradScaler('cuda', args...)` instead.\n",
            "  self.scaler = torch.cuda.amp.GradScaler(**kwargs)\n"
          ]
        }
      ],
      "source": [
        "\n",
        "\n",
        "args = Seq2SeqTrainingArguments(\n",
        "    'case-summ', #save directory\n",
        "    evaluation_strategy='epoch',\n",
        "    learning_rate=2e-5,\n",
        "    per_device_train_batch_size=2,\n",
        "    per_device_eval_batch_size= 2,\n",
        "    gradient_accumulation_steps=2,\n",
        "    weight_decay=0.01,\n",
        "    save_total_limit=2,\n",
        "    num_train_epochs=3,\n",
        "    predict_with_generate=True,\n",
        "    eval_accumulation_steps=3,\n",
        "    fp16=True #available only with CUDA\n",
        "    )\n",
        "\n",
        "trainer = Seq2SeqTrainer(\n",
        "    model,\n",
        "    args,\n",
        "    train_dataset=tokenize_data_train,\n",
        "    eval_dataset=tokenize_data_eval,\n",
        "    data_collator=data_collator,\n",
        "    tokenizer=tokenizer,\n",
        "    compute_metrics=compute_metrics\n",
        ")"
      ]
    },
    {
      "cell_type": "code",
      "execution_count": null,
      "id": "3385ace9-9717-4c20-a812-ce2a7a965517",
      "metadata": {
        "colab": {
          "base_uri": "https://localhost:8080/",
          "height": 397
        },
        "id": "3385ace9-9717-4c20-a812-ce2a7a965517",
        "outputId": "7ccad2c1-1a78-4bcb-83a6-16d431857292"
      },
      "outputs": [
        {
          "output_type": "display_data",
          "data": {
            "text/plain": [
              "<IPython.core.display.HTML object>"
            ],
            "text/html": [
              "\n",
              "    <div>\n",
              "      \n",
              "      <progress value='1761' max='1761' style='width:300px; height:20px; vertical-align: middle;'></progress>\n",
              "      [1761/1761 38:23, Epoch 3/3]\n",
              "    </div>\n",
              "    <table border=\"1\" class=\"dataframe\">\n",
              "  <thead>\n",
              " <tr style=\"text-align: left;\">\n",
              "      <th>Epoch</th>\n",
              "      <th>Training Loss</th>\n",
              "      <th>Validation Loss</th>\n",
              "    </tr>\n",
              "  </thead>\n",
              "  <tbody>\n",
              "    <tr>\n",
              "      <td>1</td>\n",
              "      <td>3.277800</td>\n",
              "      <td>0.500000</td>\n",
              "    </tr>\n",
              "    <tr>\n",
              "      <td>2</td>\n",
              "      <td>2.827000</td>\n",
              "      <td>0.500000</td>\n",
              "    </tr>\n",
              "    <tr>\n",
              "      <td>3</td>\n",
              "      <td>2.600700</td>\n",
              "      <td>0.500000</td>\n",
              "    </tr>\n",
              "  </tbody>\n",
              "</table><p>"
            ]
          },
          "metadata": {}
        },
        {
          "output_type": "stream",
          "name": "stderr",
          "text": [
            "Some non-default generation parameters are set in the model config. These should go into a GenerationConfig file (https://huggingface.co/docs/transformers/generation_strategies#save-a-custom-decoding-strategy-with-your-model) instead. This warning will be raised to an exception in v4.41.\n",
            "Non-default generation parameters: {'max_length': 142, 'min_length': 56, 'early_stopping': True, 'num_beams': 4, 'length_penalty': 2.0, 'no_repeat_ngram_size': 3, 'forced_bos_token_id': 0, 'forced_eos_token_id': 2}\n",
            "Some non-default generation parameters are set in the model config. These should go into a GenerationConfig file (https://huggingface.co/docs/transformers/generation_strategies#save-a-custom-decoding-strategy-with-your-model) instead. This warning will be raised to an exception in v4.41.\n",
            "Non-default generation parameters: {'max_length': 142, 'min_length': 56, 'early_stopping': True, 'num_beams': 4, 'length_penalty': 2.0, 'no_repeat_ngram_size': 3, 'forced_bos_token_id': 0, 'forced_eos_token_id': 2}\n",
            "Some non-default generation parameters are set in the model config. These should go into a GenerationConfig file (https://huggingface.co/docs/transformers/generation_strategies#save-a-custom-decoding-strategy-with-your-model) instead. This warning will be raised to an exception in v4.41.\n",
            "Non-default generation parameters: {'max_length': 142, 'min_length': 56, 'early_stopping': True, 'num_beams': 4, 'length_penalty': 2.0, 'no_repeat_ngram_size': 3, 'forced_bos_token_id': 0, 'forced_eos_token_id': 2}\n",
            "Some non-default generation parameters are set in the model config. These should go into a GenerationConfig file (https://huggingface.co/docs/transformers/generation_strategies#save-a-custom-decoding-strategy-with-your-model) instead. This warning will be raised to an exception in v4.41.\n",
            "Non-default generation parameters: {'max_length': 142, 'min_length': 56, 'early_stopping': True, 'num_beams': 4, 'length_penalty': 2.0, 'no_repeat_ngram_size': 3, 'forced_bos_token_id': 0, 'forced_eos_token_id': 2}\n"
          ]
        },
        {
          "output_type": "execute_result",
          "data": {
            "text/plain": [
              "TrainOutput(global_step=1761, training_loss=2.845611658914058, metrics={'train_runtime': 2305.5278, 'train_samples_per_second': 3.054, 'train_steps_per_second': 0.764, 'total_flos': 7629291751735296.0, 'train_loss': 2.845611658914058, 'epoch': 3.0})"
            ]
          },
          "metadata": {},
          "execution_count": 28
        }
      ],
      "source": [
        "\n",
        "trainer.train()"
      ]
    },
    {
      "cell_type": "code",
      "source": [
        "model.save_pretrained(\"drive/MyDrive/Abhishek/bart-large-cnn\")"
      ],
      "metadata": {
        "colab": {
          "base_uri": "https://localhost:8080/"
        },
        "id": "jsvloH7RcvoI",
        "outputId": "4622b08a-968a-4c6b-85a9-7629902b21d5"
      },
      "id": "jsvloH7RcvoI",
      "execution_count": null,
      "outputs": [
        {
          "output_type": "stream",
          "name": "stderr",
          "text": [
            "Some non-default generation parameters are set in the model config. These should go into a GenerationConfig file (https://huggingface.co/docs/transformers/generation_strategies#save-a-custom-decoding-strategy-with-your-model) instead. This warning will be raised to an exception in v4.41.\n",
            "Non-default generation parameters: {'max_length': 142, 'min_length': 56, 'early_stopping': True, 'num_beams': 4, 'length_penalty': 2.0, 'no_repeat_ngram_size': 3, 'forced_bos_token_id': 0, 'forced_eos_token_id': 2}\n"
          ]
        }
      ]
    },
    {
      "cell_type": "code",
      "source": [
        "source = '''Appeal No. 80 of 1952. Appeal from the Judgment and Decree dated the 6th September, 1950, of the High Court of Judicature at Calcutta (Das Gupta and Lahiri JJ.) in Appellate Decree No. 318 of 1949 from the Judgment and Decree dated the 25th February, 1949.\n",
        "of the Court of the District Judge of Zillah 24 Parganas in Title Appeal No. 8 of 1948 arising out of the Judgment and Decree dated the 10th October, 1947, of the Court of the Additional Subordinate Judge, 7th Court, Alipore.\n",
        "M.C. Setalvad, Attorney General for India (Aurobindo Guha and Gobinda Mohan Roy, with him) for the appellant.\n",
        "Atul Chandra Gupta (Bijan Behari Das Gupta, with him) for respondent No. 1 1953.\n",
        "November 16.\n",
        "The Judgment of the Court was delivered by MUKHERJEA J.\n",
        "The facts giving rise to this appeal are, for the most part, uncontroverted and the dispute between the parties centres round the short point as to whether a contract for sale of land to which this litigation relates, was discharged and came to an end by reason of certain supervening circumstances which affected the performance of a material part of it.\n",
        "To appreciate the merits of controversy, it will be necessary to give a brief narrative of the material facts.\n",
        "The defendant company, which is the main respondent in this appeal, is the owner of a large tract of land situated, in the vicinity of the Dhakuria Lakes within Greater Calcutta.\n",
        "The 313 company started a scheme for development of this land for residential purposes which was described as Lake Colony Scheme No. I and in furtherance of the scheme the entire area was divided into a large number of plots for the sale of which offers were invited from intending purchasers.\n",
        "The company 's plan of work seemed to be, to enter into agree ments with different purchasers for sale of these plots of land and accept from them only a small portion of the con sideration money by way of earnest at the time of the agree ment.\n",
        "The company undertook to construct the roads and, drains necessary for making the lands suitable for building and residential purposes and as soon as they were completed.\n",
        "the purchaser would be called upon to complete the con veyance by payment of the balance of the consideration money.\n",
        "Bejoy Krishna Roy, who was defendant No. 2 in the suit and figures as a pro forma respondent in this appeal, was one of such purchasers who entered into a contract with the company for purchase of a plot of land covered by the scheme.\n",
        "His contract is dated the 5th of August, 1940, and he paid Rs. 101 as earnest money.\n",
        "In the receipt granted by the vendor for this earnest money, the terms of the agree ment are thus set out: \"Received with thanks from Babu Bejoy Krishna Roy of 28 Tollygunge Circular Road, Tollygunge, the sum of Rs. 101 (Rupees one hundred and one only) as earnest money having agreed to sell to him or his nominee 5 K. more or less in plot No. 76 on 20 and 30 ft.\n",
        "Road in Premises No. Lake Colony Scheme No. 1, Southern Block at the average rate of Rs. 1,000 (Rupees one thousand only) per Cotta.\n",
        "The conveyance must be completed within one month from the date of completion of roads on payment of the balance of the consideration money, time being deemed as the Essence of the Contract.\n",
        "In case of default this agreement will be considered as cancelled with forfeiture of earnest money.\n",
        "Mokarari Mourashi 314 Terms of payment:One third to be paid at the time of registration and the balance within six years bearing Rs. 6 per cent.\n",
        "interest per annum\".\n",
        "On 30th November, 1941, the plaintiff appellant was made a nominee by the purchaser for purposes of the contract and although he brought the present suit in the character of a nominee, it has been held by the trial judge as well as by the lower appellate court, that he was really an assignee of Bejoy Krishna Roy in respect to the latter 's rights under the contract.\n",
        "Some time before this date, there was an order passed by the Collector, 24 Parganas, on 12th of November, 1941 under section 79 of the Defence of India Rules, on the strength of which a portion of the land covered by the scheme was requisitioned for military purposes.\n",
        "Another part of the land was requisitioned by the Government on 20th of December, 1941.\n",
        "while a third order of requisition, which related to the balance of the land comprised in the scheme, was passed sometime later.\n",
        "In November, 1943, the company addressed a letter to Bejoy Krishna Roy informing him of the requisitioning of the lands by the Government and stating inter alia that a considerable portion of the land appertaining to the scheme was taken possession of by the Government and there was no knowing how long the Government would retain possession of the same.\n",
        "The constructs of the proposed roads and drains, therefore, could not be taken up during the continuance of the war and possibly for many years after its termination.\n",
        "In these circumstances,, the company decided to treat the agreement for sale with the addressee as cancelled and give him the option of taking back the earnest money within one month from the receipt of the letter.\n",
        "There was offer made in the alternative that in case the purchaser refused to treat the contract as cancelled, he could, if he liked, complete the conveyance within one month from the receipt of the letter by paying the balance of the consideration money and take the land in the condition in which it existed at that time, the company undertaking to construct the roads and the drains, as circumstances might permit, after the termination of the war.\n",
        "315 The letter ended by saying that in the event of the addressee not accepting either of the two alternatives, the agreement would be deemed to be cancelled and the earnest money would stand forfeited.\n",
        "This letter was handed over by Bejoy Krishna to his nominee, the plaintiff, and there was some correspondence after that, between the plaintiff on the one hand and the company on the other through their respective lawyers into the details of which it is not necessary to enter.\n",
        "It is enough to state that the plaintiff refused to accept either of the two alternatives offered by the company and stated categorically that the latter was bound by the terms of the agreement from which it could not, in law, resile.\n",
        "On 18th of January, 1946, the suit, out of which this appeal arises, was commenced by the plaintiff against the defendant company, to which Bejoy Krishna Roy was made a party defendant and the prayers in the plaint were for a two fold declaration, namely, (1) that the contract dated the 5th of August, 1940, between the first and the second defendant, or rather his nominee, the plaintiff, was still subsisting; and (2) that the plaintiff was entitled to get a conveyance executed and registered by the defendant on payment of the consideration money mentioned in the agreement and in the manner and under the conditions specified therein.\n",
        "The suit was resisted by the defendant company who raised a large number of defences in answer to the plaintiff 's claim, most of which are not relevant for our present purpose.\n",
        "The principal contentions raised on behalf of the defendant were that a suit of this description was not maintainable under section 42 of the Specific Relief Act and that the plaintiff had no locus standi to institute the suit.\n",
        "The most material plea was that the contract of sale stood discharged by frustration as it became impossible by reason of the supervening events to perform a material part of it.\n",
        "Bejoy Krishna Roy did not file any written statement and he was examined by the plaintiff as a witness on his behalf.\n",
        "316 The trial judge by his judgment dated 10th October, 1.947, overruled all the pleas taken by the defendant and decreed the plaintiff 's suit.\n",
        "An appeal taken by the defendant to the Court of the District Judge of 24 Parganas was dismissed on the 25th February, 1949, and the judgment of the trial court was affirmed.\n",
        "The defendant company thereupon preferred a second appeal to the High Court which was heard by a Division Bench consisting 'of Das Gupta and Lahiri JJ.\n",
        "The only question canvassed before the High Court was, whether the contract of sale was frustrated by reason of the requisition orders issued by the Government? The learned Judges answered this question in the affirmative in favour of the defendant and on that ground alone dismissed the plaintiff 's suit.\n",
        "The plaintiff has now come before us on the strength of a certificate granted by the High Court under article 133(I)(c) of the Constitution of India.\n",
        "The learned Attorney General, who appeared in support of the appeal, has put forward a three fold contention on behalf of his client.\n",
        "He has contended in the first place that the doctrine of English law relating to frustration of contract, upon which the learned Judges of the High Court based their Decision has no application to India in view of the statutory provision contained in section 56 of the Indian Contract Act.\n",
        "it is argued in the second place, that even if the English law Applies, it can have no application to contracts for sale of land and that is in fact the opinion expressed by the English ,judges themselves.\n",
        "His third and the last argument is that on the admitted faacts and circumstances of this case there was no frustrating event which could be said to have taken away the basis of the contract or tendered its performance impossible in any sense of the word.\n",
        "The first argument advanced by the learned AttorneyGeneral raises a somewhat debatable point regarding the true scope and effect of section 56 of the Indian Contract Act and to what extent, if any, it incorporates the English rule of frustration of contracts.\n",
        "317 Section 56 occurs in Chapter IV of the Indian Contract Act which relates to performance of contracts and it purports to deal with one circumstances under which performance of a, contract is excused or dispensed with on the ground of the contract being void.\n",
        "The section stands as follows: \"An agreement to do an act impossible in itself is void.\n",
        "A contract to do an act which after the contract is made, becomes impossible, or, by reason of some event which the promiser could not prevent, unlawful, becomes void when the act becomes impossible or unlawful.\n",
        "Where one person has promised to do something which he knew, or, with reasonable diligence, might have known, and which the promisee did not know to be impossible or unlawful, such promisor must make compensation to such promisee for any loss which such promise sustains through the non performance of the promise\".\n",
        "The first_paragraph of the section lays down the law in the same way as in England.\n",
        "It speaks of something which is impossible inherently or by its very nature, and no one can obviously be directed to an act.\n",
        "The second paragraph enunciates the law relating to discharge of contract by reason of supervening impossibility or illegality of the act agreed to be done.\n",
        "The wording of this paragraph is quite general, and though the illustrations attached to it are not at all happy, they cannotderogate from the general words used in the enactment.\n",
        "This much is clear that the word \"impossible\" has not been used here in the sense of physical or literal impossibility.\n",
        "The performance of an act may not be literally impossible but it may be impracticbale and useless from the point of view of the object and purpose which the parties had in view and if an untoward event or change of circumstances totally upset the very foundation upon which the parties rested their bargain, it can very well be said that the promisor L/B(D)2SCI 6(a) 318 found it impossible to do the act which he promised to do.\n",
        "Although various theories have been propounded by the Judges and jurists in England regarding the juridical basis of the doctrine of frustration, yet the essential idea upon which the doctrine is based is that of impossibility of performance of the contract: in fact impossibility and frustration are often used as interchangeable expressions.\n",
        "The changed circumstances, it is said, make the performance of the contract impossible and the parties are absolved from the further performance of it as they did not promise to perform an impossibility The parties shall be excused, as Lord Loreburn says(1), \"if substantially the whole contract becomes impossible of performance or in other words impracticable by some cause for which neither was responsible,.\n",
        "\" In Joseph Constantine Steamship Line Limited vs Imperial Smelting Corporation Ltd.(2), Viscount Maugham obseryed that the \"doctrine of frustration is only a special case of the discharge of contract by an impossibility of performance arising after the contract was made.\" Lord Porter agreed with this view and rested the doctrine on the same basis.\n",
        "The question was considered and discussed by a Division Bench of the Nagpur High Court in Kesari Chand vs Governor General in Council(3) and it was held that the doctrine of frustration comes into play when a contract becomes impossi ble of performance, after it is made, on account of circum stances beyond the control of the parties.\n",
        "The doctrine is a special case of impossibility and as such comes under section 56 of the Indian Contract Act.\n",
        "We are in entire agreement with this view which is fortified by a recent pronouncement of this court in Ganga Saran vs Ram Charan(4), where Fazl (1) See Tamplin Steamship Co. Ltd. vs Anglo Mexican Petroleum Products Co. Ltd.[1916] 2 A.C. 397, 403.\n",
        "(2) at 168.\n",
        "(3) I.L.R. (4) ; at 52.\n",
        "319 Ali J., in speaking about frustration, observed in his judgment as follows: \"It seems necessary for us to emphasise that so far as the courts in this country are concerned, they must loot primarily to the law as embodied in sections 32 and 56 of the .\n",
        "\" We hold, therefore, that the doctrine of frustration is really an aspect or part of the law of discharge of contract by reason of supervening impossibility or illegality of the act agreed to be done and hence comes within the purview of section 56 of the .\n",
        "It would be incorrect to say that section 56 of the Contract Act applies only to cases of physical impossibility and that where this section is not applicable, recourse can be had to the principles of English law on the subject of frustration.\n",
        "It must be held also that to the extent that the deals with a particular subject, it is exhaustive upon the same and it is not permissible to import the principles of English law dehors these statutory provisions.\n",
        "The decisions of the English courts possess only a persuasive value and may be helpful in showing how the courts in England have decided cases under circumstances similar to those which have come before our courts.\n",
        "It seems necessary however to clear up some misconception which is likely to arise because of the complexities of the English law on the subject.\n",
        "The law of frustration in England developed, as is well known, under the guise of reading implied terms into contracts.\n",
        "The court implies a term or exception and treats that as part of the contract.\n",
        "In the case of Taylor vs Caldwell(1), Blackburn J. first formulated the doctrine in its modern form.\n",
        "The court there was dealing with a case where a music hall in which one of the contracting parties had agreed to give concerts on certain specified days was accidentally burnt by fire.\n",
        "It was held that such a contract must be regarded \"as subject to an implied condition that the parties shall be excused, in case, before breach, performance becomes impossible from perishing of the thing without (1) ; 320 default of.\n",
        "the contractor.\n",
        "\" Again in Robinson vs Davison(1) there was a contract between the plaintiff and the defendant 's wife (as the agent of her husband) that she should play the piano at a concert to be given by the plaintifl on a specified day.\n",
        "On the day in question she was unable to perform through illness.\n",
        "The contract did not contain any term as to what was to be done in case of her being too ill to perform.\n",
        "In an action against the defendant for breach of contract, it was held that the wife 's illness and the consequent incapacity excused her and that the contract was in its nature not absolute but conditional upon her being well enough to perform.\n",
        "Bramwell B. pointed out in course of his judgment that in holding that the illness of the defendant incapaciated her from performing the agreement the court was not really engrafting a new term upon an express contract.\n",
        "It was not that the obligation was absolute in the original agreement and a new condition was subsequently added to it; the whole question was whether the original contract was absolute or conditional and having regard to the terms of the bargain, it must be held to be conditional.\n",
        "The English law passed through various stages of development since then and the principles enunciated in the various decided authorities cannot be said to be in any way uniform.\n",
        "In many of the pronouncements of the highest courts in England the doctrine of frustration was held \"to be a device by which the rules as to absolute contracts are reconciled with a special exception which justice demands\"(2).\n",
        "The court, it is said, cannot claim to exercise a dispensing power or to modify or alter contracts.\n",
        "But when an unexpected event or change of circumstance occurs, the possibility of which the parties did not circumstance occurs, the possibility contract is taken to be not what the parties actual intended, but what they as fair and reasonable men would presumably have intended and agreed upon, if having such possibility in view they had made express provsion as to their rights and liabilities in the event of such occurrence(1).\n",
        "As Loard Wright (1) ; (2) Vide Hirji Mulji vs Cheong Yue Steamship Co. Ltd. at 510.\n",
        "(3) Vide Dahl vs Nelson, Donkinand Co. (1881) 6 App.\n",
        "38 at 59.\n",
        "321 observed in Joseph Constantine Steamship Co. vs Imperial Smelting Corporation Ltd.(1).\n",
        "\"In ascertaining the meaning of the contract and its application to the actual occurrences, the court has to decide, not what the parties actually intended but what as reasonable men they should have intended.\n",
        "The court personifies for this purpose the reasonable man.\n",
        "\" Lord Wright clarified the position still further in the later case of Denny, Mott and Dickson Ltd. vs James B. Fraser & Co. Ltd.(1), where he made the following observations: \"Though it has been constantly said by high authority, including Lord Sumner, that the explanation of the rule is to be found in the theory that it depends on an implied con dition of the contract, that is really no explanation.\n",
        "It only pushes back the problem a single stage.\n",
        "It leaves the question what is the reason for implying a term.\n",
        "Nor can I reconcile that theory with the view that the result does not depend on what the parties might, or would, as hard bargainers, have agreed.\n",
        "The doctrine is invented by the court in order to supplement the defects of the actual contract.\n",
        "To my mind the theory of the implied condition is not really consistent with the true theory of frustration.\n",
        "It has never been acted on by the court as a ground of decision, but is merely stated as a theoretical explanation.\n",
        "\" In the recent case of British Movietonews Ltd. vs London and District Cinemas Ltd.(1), Denning L. J. in the Court of Appeal took the view expressed by Lord Wright as stated above as meaning that \"the court really exercises a qualifying power a power to qualify the absolute., literal or wide terms of the contract in order to do what is just and reasonable in the new situation\".\n",
        "\"The day is gone,\" (1) at 185.\n",
        "(2) ; at 275.\n",
        "(3) L/ B(D) 2SCI 7 322 the learned Judge went on to say, \"when we can excuse an unforeseen injustice by saying to the sufferer 'it is your own folly, you ought not to have passed that form of words.\n",
        "You ought to have put in a clause to protect yourself '.\n",
        "We no longer credit a party with the foresight of a Prophet or his lawyer with the draftsmanship of a Chalmers.\n",
        "We realise that they have their limitations and make allowances accor dingly.\n",
        "It is better thus.\n",
        "The old maxim reminds us that he who clings to the letter clings to the dry and barren shell and misses the truth and substance of the matter.\n",
        "We have of late paid heed to this warning, and we must pay like heed now.\n",
        "\" This decision of the Court of Appeal was reversed by the House of Lords and Viscount Simon in course of his judgment expressed disapproval of the way in which the law was stated by Denning L.J.\n",
        "It was held that there was no change in the law as a result of which the courts could exercise a wider power in this regard than they used to do previously.\n",
        "\"The principle remains the same\", thus observed his Lordship. \"Particular applications of it may greatly vary and theoretical lawyers may debate whether the rule should be regarded as arising from implied term or because the basis of the contract no longer exists.\n",
        "In any view, it is a question of construction as Lord Wright pointed out in Constantine 's case and as has been repeatedly asserted by other masters of law.\n",
        "\"(1) These differences in the way of formulating legal theories really do not concern us so long as we have a statutory provision in the .\n",
        "In deciding cases in India the only doctrine that we have to go by is that of supervening impossibility or illegality as laid down in section 56 of the Contract Act taking the word \"Impossible\" in its practical and not literal sense.\n",
        "It must be borne in mind, however, that section 56 lays down a rule of positive law and does not leave the matter to be determined according to the intention of the parties.\n",
        "(1) at 184.\n",
        "323 In the latest decision of the House of Lords referred to above, the Lord Chancellor puts the whole doctrine upon the principle of construction.\n",
        "But the question of construction may manifest itself in two totally different ways.\n",
        "In one class of cases the question may simply be, as to what the parties themselves had actually intended and whether or not there as a condition in the contract itself, express or implied, which operated, according to the agreement of the Parties themselves to release them from their obligations; this would be a question of construction pure and simple and the ordinary rules of construction would have to be applied to find out what the real intention of the parties was.\n",
        "According to the , a promise may be express or implied(1).\n",
        "In cases, therefore, where the court gathers as a matter of construction that the contract itself contained impliedly or expressly a term, according to which it would stand discharged on the happening of certain circumstances the dissolution on of the contract would take place under the terms of the contract itself and such cases would be outside the purview of section 56 altogether.\n",
        "Although in English law these cases are treated as cases of frustration, in India they would be dealt with under section 32 of the which deals with contingent contracts or similar other provisions contained in the Act.\n",
        "In the large majority of cases however the doctrine of frustration is applied not on the ground that the parties themselves agreed to an implied term which operated to release them from the performance of the contract.\n",
        "The relief is given by the court on the ground of subsequent impossibility when it finds that the whole purpose or basis of a contract was frustrated by the intrusion or occurrence of an unexpected event or change of circumstances which was beyond what was contemplated by the parties at the time when they entered into the agreement.\n",
        "Here there is no question of finding out an implied term agreed to by the parties em bodying a provision for discharge, because the parties did not think about the matter at all nor could possibly have any intention regarding it.\n",
        "When such an event or change of (1) Vide section 9.\n",
        "L/B(D)2SCI 7(a) 324 circumstance occurs which is so fundamental as to be re garded by law as striking at the root of the contract as a whole, it is the court which can pronounce the contract to be frustrated and at an end.\n",
        "The court undoubtedly has to examine the contract and the circumstances under which it was made.\n",
        "The belief, knowledge and intention of the parties are evidence, but evidence only on which the court has to form its own conclusion whether the changed cir cumstances destroyed altogether the basis of the adventure and its underlying object(1).\n",
        "This may be called a rule of construction by English Judges but it is certainly not a, principle of giving effect to the intention of the parties which underlies all rules of construction.\n",
        "This is really a rule of positive law and as such comes within the purview of section 56 of the .\n",
        "It must be pointed out here that if the parties do con template the possibility of an intervening circumstance which might affect the performance of the contract, but expressly stipulate that the contract would stand despite such circumstances, there can be no case of frustration because the basis of the contract being to demand performance despite the happening of a particular event, it cannot disappear when that event happens.\n",
        "As Lord Atkinson said in Matthey vs Curling(1), \"a person who expressly contracts absolutely to do a thing not naturally impossible is not excused for nonperformance because of being prevented by the act of God or the King 's enemies. . or vis major\".\n",
        "This being the legal position, a contention in the extreme form that the doctrine of frustration as recognised in English law does no come at all within the purview of section 56 of the cannot be accepted.\n",
        "The second contention raised by the Attorney General can be disposed of in few words.\n",
        "It is true that in England the judicial opinion generally expressed is, that the doctrine of frustration does not operate in the case of contracts for (1) Vide Morgan vs Manser (1947] 2 AU E.R. 666.\n",
        "(2) at 234.\n",
        "325 sale of land(1).\n",
        "But the reason underlying this view is that under the English law as soon as there is a concluded contract by A to sell land to B at certain price, B becomes in equity, the owner of the land, subject to his obligation to pay the purchase money '.\n",
        "On the other hand, A in spite of his having the legal estate holds the same in trust for the purchaser and whatever rights he still retains in the land are referable to his right to recover and receive the purchase money.\n",
        "The rule of frustration can only put an end to purely contractual obligations, but it cannot destroy an estate in land which has already accrued in favour of a contracting party.\n",
        "According to the Indian law, which is embodied in section 54 of the Transfer of Property Act, a contract for sale of land does not of itself create any interest in the property which is the subject matter of the contract.\n",
        "The obligations of the parties to a contract for sale of land are, therefore, the same as in other ordinary contracts and consequendy there is no conceivable reason why the doctrine of frustration should not be applicable to contracts for sale of land in India.\n",
        "This contention of the Attorney General must, therefore, fail.\n",
        "We now come to the last and most important point in this case which raises the question as to whether, as a result of the requisition orders, under which the lands comprised in the development scheme of the defendant company were requisitioned by Government, the contract of sale between the defendant company and the plaintiff 's predecessor stood dissolved by frustration or in other words became impossible of performance.\n",
        "It is well settled and not disputed before us that if and when there is frustration the dissolution of the contract occurs automatically.\n",
        "It does not depend, as does rescission of a contract on the ground of repudiation or breach, or on the choice or election of either party.\n",
        "It depends on the effect (1) Vida Billington Estates Co. vs Stonfield Estate Ltd. [1952] 1 All E.R.853.\n",
        "326 of what has actually happened on the possibility of performing the contrat (1).\n",
        "What happens generally in such cases and has happened here is that one party claims that the contract has been frustrated while the other party denies it.\n",
        "The issue has got to be decided by the court \"ex post facto, on the actual circumstances of the case\"(2).\n",
        "We will now proceed to examine the nature and terms of the contract before us and the circumstances under which it was entered into to determine whether or not the disturbing element,which is allowed to have happened here, has substantially prevented the performance of the contract as a whole.\n",
        "It may be stated at the outset that the.\n",
        "contract before us cannot be looked upon as an ordinary contract for sale and purchase of a piece of land; it is an integral part of a development scheme started by the defendant company and is one of the many contracts that have been entered into by a large number of persons with the company.\n",
        "The object of the company was undoubtedly to develop a fairly extensive area which was still undeveloped and make it usable for residential purposes by making roads and constructing drains through it.\n",
        "The purchaser.\n",
        "on the other hand, wanted the land in regard to which he entered into the contract to be developed and make ready for building purposes before he could be called upon to complete the purchase.\n",
        "The most material thing which deserves notice is, that there is abso lutely no time limit within which.\n",
        "the roads and drains are to be made.\n",
        "The learned District Judge of Alipore, who heard the appeal, from the trial court 's judgment found it as a fact, on the evidence in the record, that there was not an understanding between the parties on this point.\n",
        "As a matter of fact, the first requisition order was passed nearly 15 months after the contract was made and apparently no work was done by the defendant company in the meantime.\n",
        "Another important thing that requires notice in this con (1) Per Lord Wright in Denny, Mott and Dicksom Ltd. vs Jameso B. Fraser and Co., Ltd. ; , 274, (2) Ibid.\n",
        "327 nection is that the war was already on, when the parties entered into the contract.\n",
        "Requisition orders for taking temporary possession of lands for war purposes were normal events during this period.\n",
        "Apart from requisition orders there were other difficulties in doing construction work at that time because of the scarcity of materials and the various restrictions which the Government had imposed in respect of them.\n",
        "That there were certain risks and difficulties involved in carrying on operations like these, could not but be in the contemplation of the parties at the time when they entered into the contract, and that is probably the reason why no definite time limit was mentioned in the contract within which the roads and drains are to be completed.\n",
        "This was left entirely to the convenience of the company and as at matter of fact the purchaser did not feel concerned about it.\n",
        "It is against this background that we are to consider to what extent the passing of the requisition orders affected the performance of the contract in the present case.\n",
        "The company, it must be admitted, bad not commenced the development work when the requisition order was passed in November, 1941.\n",
        "There was no question, therefore, of any work or service being interrupted for an indefinite period of time.\n",
        "Undoubtedly the commencement of the work was delayed but was the delay going to be so great and of such a character that it would totally upset the basis of the bargain and comercial object which the parties had in view? The requisition orders, it must be remembered, were ' by their very nature, of a temporary character and the requisitioning authorities could, in law, occupy the position of a licensee in regard to the requisitioned property.\n",
        "The order might continue during the whole period of the war and even for some time after that or it could have been withdrawn before the war terminated.\n",
        "If there was a definite time limit agreed to by the parties within which the construction work was to be finished, it could be said with perfect propriety that delay for an indefinite period would 328 make the performance of the contract impossible within the specified time and this would seriously affect the object and purpose of the venture.\n",
        "But when there is no time limit whatsoever in the contract, nor even an understanding bet ween the parties on that point and when during the war the parties could naturally anticipate restrictions of various kinds which would make the carrying on of these operations more tardy and difficult than in times of peace, we do not think that the order of requisition affected the fundamental basis upon which the agreement rested or struck at the roots of the adventure.\n",
        "The learned Judges of the High Court in deciding the case against the plaintiff relied entirely on the time factor.\n",
        "It is true that the parties could not contemplate an absolutely unlimited period of time to fulfil their contract.\n",
        "They might certainly have in mind a period of time which was reasonable having regard to the nature and magnitude of the work to be done as well as the conditions of war prevailing at that time.\n",
        "Das Gupta, J., who delivered the judgment of the High Court, says first of all that the company had in contemplation a period of time not much exceeding 2 or 3 years as the time for performance of the contract; the purchaser also had the same period of time in contemplation.\n",
        "The learned Judge records his finding on the point in the following words: \"My conclusion on a consideration of the surrounding circumstances of the contract is that the parties contemplated that the roads and drains would be constructed and the conveyance would be completed in the not distant future.\n",
        "\" This finding is inconclusive and goes contrary to what has been held by the District Judge who was undoubtedly the last court of facts.\n",
        "In our opinion, having regard to the nature and terms of the contract, the actual existence of war conditions at the time when it was entered into, the extent of the work involved in the development scheme and last though not the least the total absence of any definite period of time agreed to by the parties within which the work was 329 to be completed, it cannot be said that the requisition order vitally affected the contract or made its performance impossible.\n",
        "Mr. Gupta, who appeared for the respondent company.\n",
        "put forward an alternative argument that even if the performance of the contract was not made impossible.\n",
        "it certainly became illegal as a result of the requisition order and con sequently the contract became void under section 56 of the as soon as the requisition order was made.\n",
        "In support of his contention the learned counsel placed reliance upon certain provisions of the Defence of India Rules and also upon illustration (d) to section 56 of the Contract Act.\n",
        "All that the Defence Regulations show is that the violation of a requisition order could be punished as a criminal offence.\n",
        "But no matter in whichever way the requisition order could be enforced, in substance it did nothing else but impose a prohibition on the use of the land during the period that it remained in force.\n",
        "The effect of such prohibition on the performance of the contract, we have discussed above, and we do not think that the mere fact that the requisition order was capable of being enforced by a criminal sanction made any difference in this respect.\n",
        "In any view this question was not raised in any of the courts below and has not been indicated even in the respondent 's statement of the case.\n",
        "We do not think that it would be proper to allow this question to be raised for the first time before us, as it requires consideration of the different provisions of the Defence of India Act and also of the implication of illustration (d) appended to section 56 of the Contract Act.\n",
        "In our opinion, the events which have happened here cannot be said to have made the performance of the contract impossible and the contract has not been frustrated at all.\n",
        "The result is that the appeal is allowed, the judgment and decree of the High Court of Calcutta are set aside and those of the courts below restored.\n",
        "The plaintiff will have his costs in all the courts.\n",
        "Appeal allowed.\n",
        "Agent for the respondent No. I : R. R. Biswas.'''"
      ],
      "metadata": {
        "id": "x_lDQtHVaxyz"
      },
      "id": "x_lDQtHVaxyz",
      "execution_count": null,
      "outputs": []
    },
    {
      "source": [
        "#Better way\n",
        "\n",
        "# Tokenize the conversation\n",
        "inputs = tokenizer(source, return_tensors=\"pt\", truncation=True, max_length=1024) # Added truncation and max_length for the tokenizer\n",
        "\n",
        "# Ensure inputs are on the same device as the model (assuming model is on CUDA)\n",
        "inputs = {k: v.to(model.device) for k, v in inputs.items()}\n",
        "\n",
        "# Print the maximum token ID in the input\n",
        "print(f\"Maximum token ID in input: {inputs['input_ids'].max()}\")\n",
        "\n",
        "# Print the vocabulary size of the model\n",
        "print(f\"Model vocabulary size: {model.config.vocab_size}\")\n",
        "\n",
        "# Generate summary\n",
        "summary_ids = model.generate(inputs[\"input_ids\"], max_length=1024) # Adjust max_length as needed\n",
        "\n",
        "# Decode the summary\n",
        "summary = tokenizer.batch_decode(summary_ids, skip_special_tokens=True, clean_up_tokenization_spaces=False)[0]"
      ],
      "cell_type": "code",
      "metadata": {
        "id": "kZF9SCA4aVMK",
        "colab": {
          "base_uri": "https://localhost:8080/"
        },
        "outputId": "26c56fca-6c9c-4c5b-e486-df842f6aa7f2"
      },
      "id": "kZF9SCA4aVMK",
      "execution_count": null,
      "outputs": [
        {
          "output_type": "stream",
          "name": "stdout",
          "text": [
            "Maximum token ID in input: 50118\n",
            "Model vocabulary size: 50264\n"
          ]
        }
      ]
    },
    {
      "source": [
        "# Tokenize the conversation\n",
        "inputs = tokenizer(source, return_tensors=\"pt\", truncation=True, max_length=1024)\n",
        "\n",
        "# Ensure inputs are on the same device as the model\n",
        "inputs = {k: v.to(model.device) for k, v in inputs.items()}\n",
        "\n",
        "# Generate summary with adjusted parameters\n",
        "summary_ids = model.generate(\n",
        "    inputs[\"input_ids\"],\n",
        "    max_length=256,  # Increased max_length\n",
        "    num_beams=5  ,    # Try beam search with a wider beam\n",
        "    no_repeat_ngram_size=2,  # Prevent repetitions\n",
        "    early_stopping=False,     # Disable early stopping if it was enabled\n",
        ")\n",
        "\n",
        "# Decode the summary\n",
        "summary = tokenizer.batch_decode(summary_ids, skip_special_tokens=True, clean_up_tokenization_spaces=False)[0]"
      ],
      "cell_type": "code",
      "metadata": {
        "id": "1fZ_629SeRA9"
      },
      "id": "1fZ_629SeRA9",
      "execution_count": null,
      "outputs": []
    },
    {
      "cell_type": "code",
      "source": [
        "print(summary)"
      ],
      "metadata": {
        "colab": {
          "base_uri": "https://localhost:8080/"
        },
        "id": "0rsB9UDFZ-4Y",
        "outputId": "60b86d3d-655e-483d-b551-2c646f3804e8"
      },
      "id": "0rsB9UDFZ-4Y",
      "execution_count": null,
      "outputs": [
        {
          "output_type": "stream",
          "name": "stdout",
          "text": [
            "The appellant, a private limited company, was carrying on business in the manufacture and sale of paper and paper board.\n",
            "It was assessed to income tax under the Income tax Act, 1961 for the assessment years 1961 62, 1962 63, 1963 64, 1964 65, 1965 66, 1966 67, 1967 68, 1968 69, 1969 68 and 1969 69 69 in respect of the year ending 31.12.1966, which was the last year in which the assessable income was calculated and the tax payable on the income received by the company for that year was included in its assessment under section 3(1)(a) (b) and (c).\n",
            "The Income Tax Officer held that the assessee was not liable to pay tax as it did not fall within the definition of 'income ' contained in sub section (1) of section 5(2)\n"
          ]
        }
      ]
    },
    {
      "source": [],
      "cell_type": "code",
      "metadata": {
        "id": "uyhHh0u74heu"
      },
      "id": "uyhHh0u74heu",
      "execution_count": null,
      "outputs": []
    },
    {
      "source": [
        "!pip install transformers\n",
        "from transformers import AutoTokenizer\n",
        "\n",
        "# Example: Load a pre-trained tokenizer\n",
        "model_checkpoint = \"t5-small\"  # Replace with your desired model\n",
        "tokenizer = AutoTokenizer.from_pretrained(model_checkpoint)\n",
        "\n",
        "from torch.utils.data import Dataset, DataLoader\n",
        "\n",
        "class SummaryDataset(Dataset):\n",
        "    def __init__(self, data, tokenizer, max_length=1024):\n",
        "        self.data = data\n",
        "        self.tokenizer = tokenizer\n",
        "        self.max_length = max_length\n",
        "\n",
        "    def __len__(self):\n",
        "        return len(self.data)\n",
        "\n",
        "    def __getitem__(self, idx):\n",
        "        source = self.data[idx][\"source\"]\n",
        "        target = self.data[idx][\"summary\"]\n",
        "\n",
        "        inputs = self.tokenizer(\n",
        "            source,\n",
        "            max_length=self.max_length,\n",
        "            truncation=True,\n",
        "            padding=\"max_length\",\n",
        "            return_tensors=\"pt\",\n",
        "        )\n",
        "        labels = self.tokenizer(\n",
        "            target,\n",
        "            max_length=self.max_length,\n",
        "            truncation=True,\n",
        "            padding=\"max_length\",\n",
        "            return_tensors=\"pt\",\n",
        "        )\n",
        "\n",
        "        # Prepare data for the model\n",
        "        input_ids = inputs.input_ids.squeeze()\n",
        "        attention_mask = inputs.attention_mask.squeeze()\n",
        "        labels = labels.input_ids.squeeze()\n",
        "\n",
        "        return {\n",
        "            \"input_ids\": input_ids,\n",
        "            \"attention_mask\": attention_mask,\n",
        "            \"labels\": labels,\n",
        "        }\n",
        "\n",
        "# Example data (replace with your actual data)\n",
        "data=list()\n",
        "data = load_data(data)\n",
        "\n",
        "# Create dataset and dataloader\n",
        "dataset = SummaryDataset(data, tokenizer)\n",
        "dataloader = DataLoader(dataset, batch_size=4, shuffle=True)"
      ],
      "cell_type": "code",
      "metadata": {
        "colab": {
          "base_uri": "https://localhost:8080/"
        },
        "id": "6kUlNdyz4Aff",
        "outputId": "6fd118f3-73a6-47ba-e4d7-4ee6bfbc6033"
      },
      "id": "6kUlNdyz4Aff",
      "execution_count": null,
      "outputs": [
        {
          "output_type": "stream",
          "name": "stdout",
          "text": [
            "Requirement already satisfied: transformers in /usr/local/lib/python3.10/dist-packages (4.44.2)\n",
            "Requirement already satisfied: filelock in /usr/local/lib/python3.10/dist-packages (from transformers) (3.16.0)\n",
            "Requirement already satisfied: huggingface-hub<1.0,>=0.23.2 in /usr/local/lib/python3.10/dist-packages (from transformers) (0.24.6)\n",
            "Requirement already satisfied: numpy>=1.17 in /usr/local/lib/python3.10/dist-packages (from transformers) (1.26.4)\n",
            "Requirement already satisfied: packaging>=20.0 in /usr/local/lib/python3.10/dist-packages (from transformers) (24.1)\n",
            "Requirement already satisfied: pyyaml>=5.1 in /usr/local/lib/python3.10/dist-packages (from transformers) (6.0.2)\n",
            "Requirement already satisfied: regex!=2019.12.17 in /usr/local/lib/python3.10/dist-packages (from transformers) (2024.5.15)\n",
            "Requirement already satisfied: requests in /usr/local/lib/python3.10/dist-packages (from transformers) (2.32.3)\n",
            "Requirement already satisfied: safetensors>=0.4.1 in /usr/local/lib/python3.10/dist-packages (from transformers) (0.4.5)\n",
            "Requirement already satisfied: tokenizers<0.20,>=0.19 in /usr/local/lib/python3.10/dist-packages (from transformers) (0.19.1)\n",
            "Requirement already satisfied: tqdm>=4.27 in /usr/local/lib/python3.10/dist-packages (from transformers) (4.66.5)\n",
            "Requirement already satisfied: fsspec>=2023.5.0 in /usr/local/lib/python3.10/dist-packages (from huggingface-hub<1.0,>=0.23.2->transformers) (2024.6.1)\n",
            "Requirement already satisfied: typing-extensions>=3.7.4.3 in /usr/local/lib/python3.10/dist-packages (from huggingface-hub<1.0,>=0.23.2->transformers) (4.12.2)\n",
            "Requirement already satisfied: charset-normalizer<4,>=2 in /usr/local/lib/python3.10/dist-packages (from requests->transformers) (3.3.2)\n",
            "Requirement already satisfied: idna<4,>=2.5 in /usr/local/lib/python3.10/dist-packages (from requests->transformers) (3.8)\n",
            "Requirement already satisfied: urllib3<3,>=1.21.1 in /usr/local/lib/python3.10/dist-packages (from requests->transformers) (2.0.7)\n",
            "Requirement already satisfied: certifi>=2017.4.17 in /usr/local/lib/python3.10/dist-packages (from requests->transformers) (2024.8.30)\n"
          ]
        }
      ]
    },
    {
      "cell_type": "code",
      "source": [],
      "metadata": {
        "id": "vwkvRG4GadAR"
      },
      "id": "vwkvRG4GadAR",
      "execution_count": null,
      "outputs": []
    },
    {
      "source": [
        "import torch\n",
        "from torch.utils.data import DataLoader\n",
        "from transformers import AutoTokenizer, AutoModelForSeq2SeqLM\n",
        "\n",
        "# Define your model and tokenizer\n",
        "model_name = \"facebook/bart-base\"  # Example model\n",
        "tokenizer = AutoTokenizer.from_pretrained(model_name)\n",
        "model = AutoModelForSeq2SeqLM.from_pretrained(model_name)\n",
        "\n",
        "# Define your dataset and dataloader\n",
        "# ... (replace with your data loading logic)\n",
        "\n",
        "# Define optimizer and loss function\n",
        "optimizer = torch.optim.AdamW(model.parameters(), lr=1e-5)\n",
        "loss_fn = torch.nn.CrossEntropyLoss(ignore_index=tokenizer.pad_token_id)\n",
        "\n",
        "# Fine-tuning loop\n",
        "device = torch.device(\"cuda\" if torch.cuda.is_available() else \"cpu\")\n",
        "model.to(device)\n",
        "\n",
        "num_epochs=3\n",
        "for epoch in range(num_epochs):\n",
        "  model.train()\n",
        "  for batch in dataloader:\n",
        "    # Move batch data to device\n",
        "    input_ids = batch[\"input_ids\"].to(device)\n",
        "    attention_mask = batch[\"attention_mask\"].to(device)\n",
        "    labels = batch[\"labels\"].to(device)\n",
        "\n",
        "    # Forward pass\n",
        "    outputs = model(input_ids=input_ids, attention_mask=attention_mask, labels=labels)\n",
        "    loss = outputs.loss\n",
        "\n",
        "    # Backward pass and optimization\n",
        "    optimizer.zero_grad()\n",
        "    loss.backward()\n",
        "    optimizer.step()\n",
        "\n",
        "  # Evaluation (optional)\n",
        "  # ...\n",
        "\n",
        "# Save the fine-tuned model\n",
        "model.save_pretrained(\"content/drive/MyDrive/finetuned_model_t5\")"
      ],
      "cell_type": "code",
      "metadata": {
        "id": "4th_GQSH3uJE",
        "colab": {
          "base_uri": "https://localhost:8080/"
        },
        "outputId": "6bbaaa8e-43fe-4274-b864-6a36217a87d7"
      },
      "id": "4th_GQSH3uJE",
      "execution_count": null,
      "outputs": [
        {
          "output_type": "stream",
          "name": "stderr",
          "text": [
            "/usr/local/lib/python3.10/dist-packages/transformers/tokenization_utils_base.py:1601: FutureWarning: `clean_up_tokenization_spaces` was not set. It will be set to `True` by default. This behavior will be depracted in transformers v4.45, and will be then set to `False` by default. For more details check this issue: https://github.com/huggingface/transformers/issues/31884\n",
            "  warnings.warn(\n"
          ]
        }
      ]
    },
    {
      "cell_type": "code",
      "source": [],
      "metadata": {
        "id": "hH5fPWcknpFS"
      },
      "id": "hH5fPWcknpFS",
      "execution_count": null,
      "outputs": []
    }
  ],
  "metadata": {
    "kernelspec": {
      "display_name": "Python 3",
      "name": "python3"
    },
    "language_info": {
      "codemirror_mode": {
        "name": "ipython",
        "version": 3
      },
      "file_extension": ".py",
      "mimetype": "text/x-python",
      "name": "python",
      "nbconvert_exporter": "python",
      "pygments_lexer": "ipython3",
      "version": "3.11.5"
    },
    "colab": {
      "provenance": [],
      "gpuType": "T4"
    },
    "accelerator": "GPU",
    "widgets": {
      "application/vnd.jupyter.widget-state+json": {
        "f521c97e2ab84121b20bd0de83e99dbd": {
          "model_module": "@jupyter-widgets/controls",
          "model_name": "HBoxModel",
          "model_module_version": "1.5.0",
          "state": {
            "_dom_classes": [],
            "_model_module": "@jupyter-widgets/controls",
            "_model_module_version": "1.5.0",
            "_model_name": "HBoxModel",
            "_view_count": null,
            "_view_module": "@jupyter-widgets/controls",
            "_view_module_version": "1.5.0",
            "_view_name": "HBoxView",
            "box_style": "",
            "children": [
              "IPY_MODEL_830a2ab34dcf46f186cb9f1dae64b79c",
              "IPY_MODEL_f3fc8db116e84b00a26bf9713a4f28ac",
              "IPY_MODEL_1371a3df05ee44caaf6fb836f1125998"
            ],
            "layout": "IPY_MODEL_f773be10b3d64438a46d93dcbe1b5ea2"
          }
        },
        "830a2ab34dcf46f186cb9f1dae64b79c": {
          "model_module": "@jupyter-widgets/controls",
          "model_name": "HTMLModel",
          "model_module_version": "1.5.0",
          "state": {
            "_dom_classes": [],
            "_model_module": "@jupyter-widgets/controls",
            "_model_module_version": "1.5.0",
            "_model_name": "HTMLModel",
            "_view_count": null,
            "_view_module": "@jupyter-widgets/controls",
            "_view_module_version": "1.5.0",
            "_view_name": "HTMLView",
            "description": "",
            "description_tooltip": null,
            "layout": "IPY_MODEL_d7e7473304474db59a3593a99b63b7bc",
            "placeholder": "​",
            "style": "IPY_MODEL_9a492e91e17c4024a768ec85b8051585",
            "value": "Map: 100%"
          }
        },
        "f3fc8db116e84b00a26bf9713a4f28ac": {
          "model_module": "@jupyter-widgets/controls",
          "model_name": "FloatProgressModel",
          "model_module_version": "1.5.0",
          "state": {
            "_dom_classes": [],
            "_model_module": "@jupyter-widgets/controls",
            "_model_module_version": "1.5.0",
            "_model_name": "FloatProgressModel",
            "_view_count": null,
            "_view_module": "@jupyter-widgets/controls",
            "_view_module_version": "1.5.0",
            "_view_name": "ProgressView",
            "bar_style": "success",
            "description": "",
            "description_tooltip": null,
            "layout": "IPY_MODEL_c6f9207a0949447b82e4db943195fd4e",
            "max": 2347,
            "min": 0,
            "orientation": "horizontal",
            "style": "IPY_MODEL_e3c6d06509284418a4ac9917ef1c6d4f",
            "value": 2347
          }
        },
        "1371a3df05ee44caaf6fb836f1125998": {
          "model_module": "@jupyter-widgets/controls",
          "model_name": "HTMLModel",
          "model_module_version": "1.5.0",
          "state": {
            "_dom_classes": [],
            "_model_module": "@jupyter-widgets/controls",
            "_model_module_version": "1.5.0",
            "_model_name": "HTMLModel",
            "_view_count": null,
            "_view_module": "@jupyter-widgets/controls",
            "_view_module_version": "1.5.0",
            "_view_name": "HTMLView",
            "description": "",
            "description_tooltip": null,
            "layout": "IPY_MODEL_05d6bda454c8452d822ace52be80c095",
            "placeholder": "​",
            "style": "IPY_MODEL_f3cef6c925cf42a1b8feac639ef7c83c",
            "value": " 2347/2347 [00:36&lt;00:00, 64.79 examples/s]"
          }
        },
        "f773be10b3d64438a46d93dcbe1b5ea2": {
          "model_module": "@jupyter-widgets/base",
          "model_name": "LayoutModel",
          "model_module_version": "1.2.0",
          "state": {
            "_model_module": "@jupyter-widgets/base",
            "_model_module_version": "1.2.0",
            "_model_name": "LayoutModel",
            "_view_count": null,
            "_view_module": "@jupyter-widgets/base",
            "_view_module_version": "1.2.0",
            "_view_name": "LayoutView",
            "align_content": null,
            "align_items": null,
            "align_self": null,
            "border": null,
            "bottom": null,
            "display": null,
            "flex": null,
            "flex_flow": null,
            "grid_area": null,
            "grid_auto_columns": null,
            "grid_auto_flow": null,
            "grid_auto_rows": null,
            "grid_column": null,
            "grid_gap": null,
            "grid_row": null,
            "grid_template_areas": null,
            "grid_template_columns": null,
            "grid_template_rows": null,
            "height": null,
            "justify_content": null,
            "justify_items": null,
            "left": null,
            "margin": null,
            "max_height": null,
            "max_width": null,
            "min_height": null,
            "min_width": null,
            "object_fit": null,
            "object_position": null,
            "order": null,
            "overflow": null,
            "overflow_x": null,
            "overflow_y": null,
            "padding": null,
            "right": null,
            "top": null,
            "visibility": null,
            "width": null
          }
        },
        "d7e7473304474db59a3593a99b63b7bc": {
          "model_module": "@jupyter-widgets/base",
          "model_name": "LayoutModel",
          "model_module_version": "1.2.0",
          "state": {
            "_model_module": "@jupyter-widgets/base",
            "_model_module_version": "1.2.0",
            "_model_name": "LayoutModel",
            "_view_count": null,
            "_view_module": "@jupyter-widgets/base",
            "_view_module_version": "1.2.0",
            "_view_name": "LayoutView",
            "align_content": null,
            "align_items": null,
            "align_self": null,
            "border": null,
            "bottom": null,
            "display": null,
            "flex": null,
            "flex_flow": null,
            "grid_area": null,
            "grid_auto_columns": null,
            "grid_auto_flow": null,
            "grid_auto_rows": null,
            "grid_column": null,
            "grid_gap": null,
            "grid_row": null,
            "grid_template_areas": null,
            "grid_template_columns": null,
            "grid_template_rows": null,
            "height": null,
            "justify_content": null,
            "justify_items": null,
            "left": null,
            "margin": null,
            "max_height": null,
            "max_width": null,
            "min_height": null,
            "min_width": null,
            "object_fit": null,
            "object_position": null,
            "order": null,
            "overflow": null,
            "overflow_x": null,
            "overflow_y": null,
            "padding": null,
            "right": null,
            "top": null,
            "visibility": null,
            "width": null
          }
        },
        "9a492e91e17c4024a768ec85b8051585": {
          "model_module": "@jupyter-widgets/controls",
          "model_name": "DescriptionStyleModel",
          "model_module_version": "1.5.0",
          "state": {
            "_model_module": "@jupyter-widgets/controls",
            "_model_module_version": "1.5.0",
            "_model_name": "DescriptionStyleModel",
            "_view_count": null,
            "_view_module": "@jupyter-widgets/base",
            "_view_module_version": "1.2.0",
            "_view_name": "StyleView",
            "description_width": ""
          }
        },
        "c6f9207a0949447b82e4db943195fd4e": {
          "model_module": "@jupyter-widgets/base",
          "model_name": "LayoutModel",
          "model_module_version": "1.2.0",
          "state": {
            "_model_module": "@jupyter-widgets/base",
            "_model_module_version": "1.2.0",
            "_model_name": "LayoutModel",
            "_view_count": null,
            "_view_module": "@jupyter-widgets/base",
            "_view_module_version": "1.2.0",
            "_view_name": "LayoutView",
            "align_content": null,
            "align_items": null,
            "align_self": null,
            "border": null,
            "bottom": null,
            "display": null,
            "flex": null,
            "flex_flow": null,
            "grid_area": null,
            "grid_auto_columns": null,
            "grid_auto_flow": null,
            "grid_auto_rows": null,
            "grid_column": null,
            "grid_gap": null,
            "grid_row": null,
            "grid_template_areas": null,
            "grid_template_columns": null,
            "grid_template_rows": null,
            "height": null,
            "justify_content": null,
            "justify_items": null,
            "left": null,
            "margin": null,
            "max_height": null,
            "max_width": null,
            "min_height": null,
            "min_width": null,
            "object_fit": null,
            "object_position": null,
            "order": null,
            "overflow": null,
            "overflow_x": null,
            "overflow_y": null,
            "padding": null,
            "right": null,
            "top": null,
            "visibility": null,
            "width": null
          }
        },
        "e3c6d06509284418a4ac9917ef1c6d4f": {
          "model_module": "@jupyter-widgets/controls",
          "model_name": "ProgressStyleModel",
          "model_module_version": "1.5.0",
          "state": {
            "_model_module": "@jupyter-widgets/controls",
            "_model_module_version": "1.5.0",
            "_model_name": "ProgressStyleModel",
            "_view_count": null,
            "_view_module": "@jupyter-widgets/base",
            "_view_module_version": "1.2.0",
            "_view_name": "StyleView",
            "bar_color": null,
            "description_width": ""
          }
        },
        "05d6bda454c8452d822ace52be80c095": {
          "model_module": "@jupyter-widgets/base",
          "model_name": "LayoutModel",
          "model_module_version": "1.2.0",
          "state": {
            "_model_module": "@jupyter-widgets/base",
            "_model_module_version": "1.2.0",
            "_model_name": "LayoutModel",
            "_view_count": null,
            "_view_module": "@jupyter-widgets/base",
            "_view_module_version": "1.2.0",
            "_view_name": "LayoutView",
            "align_content": null,
            "align_items": null,
            "align_self": null,
            "border": null,
            "bottom": null,
            "display": null,
            "flex": null,
            "flex_flow": null,
            "grid_area": null,
            "grid_auto_columns": null,
            "grid_auto_flow": null,
            "grid_auto_rows": null,
            "grid_column": null,
            "grid_gap": null,
            "grid_row": null,
            "grid_template_areas": null,
            "grid_template_columns": null,
            "grid_template_rows": null,
            "height": null,
            "justify_content": null,
            "justify_items": null,
            "left": null,
            "margin": null,
            "max_height": null,
            "max_width": null,
            "min_height": null,
            "min_width": null,
            "object_fit": null,
            "object_position": null,
            "order": null,
            "overflow": null,
            "overflow_x": null,
            "overflow_y": null,
            "padding": null,
            "right": null,
            "top": null,
            "visibility": null,
            "width": null
          }
        },
        "f3cef6c925cf42a1b8feac639ef7c83c": {
          "model_module": "@jupyter-widgets/controls",
          "model_name": "DescriptionStyleModel",
          "model_module_version": "1.5.0",
          "state": {
            "_model_module": "@jupyter-widgets/controls",
            "_model_module_version": "1.5.0",
            "_model_name": "DescriptionStyleModel",
            "_view_count": null,
            "_view_module": "@jupyter-widgets/base",
            "_view_module_version": "1.2.0",
            "_view_name": "StyleView",
            "description_width": ""
          }
        },
        "7814e462b76f44aabe5e1deaffba7068": {
          "model_module": "@jupyter-widgets/controls",
          "model_name": "HBoxModel",
          "model_module_version": "1.5.0",
          "state": {
            "_dom_classes": [],
            "_model_module": "@jupyter-widgets/controls",
            "_model_module_version": "1.5.0",
            "_model_name": "HBoxModel",
            "_view_count": null,
            "_view_module": "@jupyter-widgets/controls",
            "_view_module_version": "1.5.0",
            "_view_name": "HBoxView",
            "box_style": "",
            "children": [
              "IPY_MODEL_84424efda44f48c0b0bdb1f7ba890a4b",
              "IPY_MODEL_283a185517444246977478c8960d2d25",
              "IPY_MODEL_9a0f09f3284b4caaaddb20247e6dd22f"
            ],
            "layout": "IPY_MODEL_2b7f2b8432b64559bd4361c8b66fa735"
          }
        },
        "84424efda44f48c0b0bdb1f7ba890a4b": {
          "model_module": "@jupyter-widgets/controls",
          "model_name": "HTMLModel",
          "model_module_version": "1.5.0",
          "state": {
            "_dom_classes": [],
            "_model_module": "@jupyter-widgets/controls",
            "_model_module_version": "1.5.0",
            "_model_name": "HTMLModel",
            "_view_count": null,
            "_view_module": "@jupyter-widgets/controls",
            "_view_module_version": "1.5.0",
            "_view_name": "HTMLView",
            "description": "",
            "description_tooltip": null,
            "layout": "IPY_MODEL_711faef5cda244638d5752378f030c91",
            "placeholder": "​",
            "style": "IPY_MODEL_b57e232708e34cd3984166e50b3a47ef",
            "value": "Map: 100%"
          }
        },
        "283a185517444246977478c8960d2d25": {
          "model_module": "@jupyter-widgets/controls",
          "model_name": "FloatProgressModel",
          "model_module_version": "1.5.0",
          "state": {
            "_dom_classes": [],
            "_model_module": "@jupyter-widgets/controls",
            "_model_module_version": "1.5.0",
            "_model_name": "FloatProgressModel",
            "_view_count": null,
            "_view_module": "@jupyter-widgets/controls",
            "_view_module_version": "1.5.0",
            "_view_name": "ProgressView",
            "bar_style": "success",
            "description": "",
            "description_tooltip": null,
            "layout": "IPY_MODEL_67e41f3e64e240419afc1388ba7f5987",
            "max": 261,
            "min": 0,
            "orientation": "horizontal",
            "style": "IPY_MODEL_11afa7adb2c941dab44f360524ef621c",
            "value": 261
          }
        },
        "9a0f09f3284b4caaaddb20247e6dd22f": {
          "model_module": "@jupyter-widgets/controls",
          "model_name": "HTMLModel",
          "model_module_version": "1.5.0",
          "state": {
            "_dom_classes": [],
            "_model_module": "@jupyter-widgets/controls",
            "_model_module_version": "1.5.0",
            "_model_name": "HTMLModel",
            "_view_count": null,
            "_view_module": "@jupyter-widgets/controls",
            "_view_module_version": "1.5.0",
            "_view_name": "HTMLView",
            "description": "",
            "description_tooltip": null,
            "layout": "IPY_MODEL_8e128dcb0491468f870f5de265be02d4",
            "placeholder": "​",
            "style": "IPY_MODEL_1f2d8e039f84429ca818baf5984df030",
            "value": " 261/261 [00:04&lt;00:00, 58.08 examples/s]"
          }
        },
        "2b7f2b8432b64559bd4361c8b66fa735": {
          "model_module": "@jupyter-widgets/base",
          "model_name": "LayoutModel",
          "model_module_version": "1.2.0",
          "state": {
            "_model_module": "@jupyter-widgets/base",
            "_model_module_version": "1.2.0",
            "_model_name": "LayoutModel",
            "_view_count": null,
            "_view_module": "@jupyter-widgets/base",
            "_view_module_version": "1.2.0",
            "_view_name": "LayoutView",
            "align_content": null,
            "align_items": null,
            "align_self": null,
            "border": null,
            "bottom": null,
            "display": null,
            "flex": null,
            "flex_flow": null,
            "grid_area": null,
            "grid_auto_columns": null,
            "grid_auto_flow": null,
            "grid_auto_rows": null,
            "grid_column": null,
            "grid_gap": null,
            "grid_row": null,
            "grid_template_areas": null,
            "grid_template_columns": null,
            "grid_template_rows": null,
            "height": null,
            "justify_content": null,
            "justify_items": null,
            "left": null,
            "margin": null,
            "max_height": null,
            "max_width": null,
            "min_height": null,
            "min_width": null,
            "object_fit": null,
            "object_position": null,
            "order": null,
            "overflow": null,
            "overflow_x": null,
            "overflow_y": null,
            "padding": null,
            "right": null,
            "top": null,
            "visibility": null,
            "width": null
          }
        },
        "711faef5cda244638d5752378f030c91": {
          "model_module": "@jupyter-widgets/base",
          "model_name": "LayoutModel",
          "model_module_version": "1.2.0",
          "state": {
            "_model_module": "@jupyter-widgets/base",
            "_model_module_version": "1.2.0",
            "_model_name": "LayoutModel",
            "_view_count": null,
            "_view_module": "@jupyter-widgets/base",
            "_view_module_version": "1.2.0",
            "_view_name": "LayoutView",
            "align_content": null,
            "align_items": null,
            "align_self": null,
            "border": null,
            "bottom": null,
            "display": null,
            "flex": null,
            "flex_flow": null,
            "grid_area": null,
            "grid_auto_columns": null,
            "grid_auto_flow": null,
            "grid_auto_rows": null,
            "grid_column": null,
            "grid_gap": null,
            "grid_row": null,
            "grid_template_areas": null,
            "grid_template_columns": null,
            "grid_template_rows": null,
            "height": null,
            "justify_content": null,
            "justify_items": null,
            "left": null,
            "margin": null,
            "max_height": null,
            "max_width": null,
            "min_height": null,
            "min_width": null,
            "object_fit": null,
            "object_position": null,
            "order": null,
            "overflow": null,
            "overflow_x": null,
            "overflow_y": null,
            "padding": null,
            "right": null,
            "top": null,
            "visibility": null,
            "width": null
          }
        },
        "b57e232708e34cd3984166e50b3a47ef": {
          "model_module": "@jupyter-widgets/controls",
          "model_name": "DescriptionStyleModel",
          "model_module_version": "1.5.0",
          "state": {
            "_model_module": "@jupyter-widgets/controls",
            "_model_module_version": "1.5.0",
            "_model_name": "DescriptionStyleModel",
            "_view_count": null,
            "_view_module": "@jupyter-widgets/base",
            "_view_module_version": "1.2.0",
            "_view_name": "StyleView",
            "description_width": ""
          }
        },
        "67e41f3e64e240419afc1388ba7f5987": {
          "model_module": "@jupyter-widgets/base",
          "model_name": "LayoutModel",
          "model_module_version": "1.2.0",
          "state": {
            "_model_module": "@jupyter-widgets/base",
            "_model_module_version": "1.2.0",
            "_model_name": "LayoutModel",
            "_view_count": null,
            "_view_module": "@jupyter-widgets/base",
            "_view_module_version": "1.2.0",
            "_view_name": "LayoutView",
            "align_content": null,
            "align_items": null,
            "align_self": null,
            "border": null,
            "bottom": null,
            "display": null,
            "flex": null,
            "flex_flow": null,
            "grid_area": null,
            "grid_auto_columns": null,
            "grid_auto_flow": null,
            "grid_auto_rows": null,
            "grid_column": null,
            "grid_gap": null,
            "grid_row": null,
            "grid_template_areas": null,
            "grid_template_columns": null,
            "grid_template_rows": null,
            "height": null,
            "justify_content": null,
            "justify_items": null,
            "left": null,
            "margin": null,
            "max_height": null,
            "max_width": null,
            "min_height": null,
            "min_width": null,
            "object_fit": null,
            "object_position": null,
            "order": null,
            "overflow": null,
            "overflow_x": null,
            "overflow_y": null,
            "padding": null,
            "right": null,
            "top": null,
            "visibility": null,
            "width": null
          }
        },
        "11afa7adb2c941dab44f360524ef621c": {
          "model_module": "@jupyter-widgets/controls",
          "model_name": "ProgressStyleModel",
          "model_module_version": "1.5.0",
          "state": {
            "_model_module": "@jupyter-widgets/controls",
            "_model_module_version": "1.5.0",
            "_model_name": "ProgressStyleModel",
            "_view_count": null,
            "_view_module": "@jupyter-widgets/base",
            "_view_module_version": "1.2.0",
            "_view_name": "StyleView",
            "bar_color": null,
            "description_width": ""
          }
        },
        "8e128dcb0491468f870f5de265be02d4": {
          "model_module": "@jupyter-widgets/base",
          "model_name": "LayoutModel",
          "model_module_version": "1.2.0",
          "state": {
            "_model_module": "@jupyter-widgets/base",
            "_model_module_version": "1.2.0",
            "_model_name": "LayoutModel",
            "_view_count": null,
            "_view_module": "@jupyter-widgets/base",
            "_view_module_version": "1.2.0",
            "_view_name": "LayoutView",
            "align_content": null,
            "align_items": null,
            "align_self": null,
            "border": null,
            "bottom": null,
            "display": null,
            "flex": null,
            "flex_flow": null,
            "grid_area": null,
            "grid_auto_columns": null,
            "grid_auto_flow": null,
            "grid_auto_rows": null,
            "grid_column": null,
            "grid_gap": null,
            "grid_row": null,
            "grid_template_areas": null,
            "grid_template_columns": null,
            "grid_template_rows": null,
            "height": null,
            "justify_content": null,
            "justify_items": null,
            "left": null,
            "margin": null,
            "max_height": null,
            "max_width": null,
            "min_height": null,
            "min_width": null,
            "object_fit": null,
            "object_position": null,
            "order": null,
            "overflow": null,
            "overflow_x": null,
            "overflow_y": null,
            "padding": null,
            "right": null,
            "top": null,
            "visibility": null,
            "width": null
          }
        },
        "1f2d8e039f84429ca818baf5984df030": {
          "model_module": "@jupyter-widgets/controls",
          "model_name": "DescriptionStyleModel",
          "model_module_version": "1.5.0",
          "state": {
            "_model_module": "@jupyter-widgets/controls",
            "_model_module_version": "1.5.0",
            "_model_name": "DescriptionStyleModel",
            "_view_count": null,
            "_view_module": "@jupyter-widgets/base",
            "_view_module_version": "1.2.0",
            "_view_name": "StyleView",
            "description_width": ""
          }
        }
      }
    }
  },
  "nbformat": 4,
  "nbformat_minor": 5
}